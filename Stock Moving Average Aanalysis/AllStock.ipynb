{
 "cells": [
  {
   "cell_type": "code",
   "execution_count": 2,
   "metadata": {},
   "outputs": [],
   "source": [
    "\n",
    "# !pip install yfinance\n",
    "import unicodedata\n",
    "import pandas as pd\n",
    "import yfinance as yf\n",
    "import matplotlib.pyplot as plt\n",
    "from datetime import datetime\n",
    "import math\n"
   ]
  },
  {
   "cell_type": "code",
   "execution_count": 3,
   "metadata": {},
   "outputs": [],
   "source": [
    "sharekhan_portfolio_df = pd.read_csv(\"sharekhan.csv\",skiprows=4)\n",
    "sharekhan_stocks_list=sharekhan_portfolio_df['Stock Name'].to_list()\n",
    "start_date =\"2023-01-01\"\n",
    "end_date = datetime.today().strftime('%Y-%m-%d')"
   ]
  },
  {
   "cell_type": "code",
   "execution_count": 4,
   "metadata": {},
   "outputs": [],
   "source": [
    "icici_portfolio_df = pd.read_csv(\"icici_direct.csv\")\n",
    "icici_stocks_list = icici_portfolio_df['Stock Symbol'].to_list()\n",
    "# icici_stocks_list\n",
    "# len(icici_stocks_list)\n",
    "# icici_portfolio_df.columns\n",
    "# sharekhan_stocks_list"
   ]
  },
  {
   "cell_type": "code",
   "execution_count": 5,
   "metadata": {},
   "outputs": [],
   "source": [
    "\n",
    "sharekhan_stocks_list = list(filter(lambda x: not isinstance(x, float) or not math.isnan(x),sharekhan_stocks_list))\n",
    "# icici_stocks_list\n"
   ]
  },
  {
   "cell_type": "code",
   "execution_count": null,
   "metadata": {},
   "outputs": [],
   "source": []
  },
  {
   "cell_type": "code",
   "execution_count": 6,
   "metadata": {},
   "outputs": [],
   "source": [
    "df = pd.read_csv('EQUITY.csv')\n",
    "# df=df[df[' ISIN NUMBER'].isin(icici_portfolio_df['ISIN Code'].to_list())]\n",
    "stocks_list = df['SYMBOL'].tolist()\n",
    "stocks_list_NSE = list(map(lambda x: x+\".NS\",stocks_list))\n",
    "stocks_list_Sharekhan = list(map(lambda x: x+\".NS\",sharekhan_stocks_list))\n",
    "final_list = [ls.replace(u'\\xa0', u'')  for ls in stocks_list_Sharekhan]\n",
    "final_list = final_list + stocks_list_NSE\n",
    "final_list = list(dict.fromkeys(final_list))\n",
    "# print(f\" Final List = {stocks_list}\")\n",
    "# yahoo_data = yf.download(final_list,start=start_date,end=end_date)"
   ]
  },
  {
   "cell_type": "code",
   "execution_count": 7,
   "metadata": {},
   "outputs": [
    {
     "name": "stdout",
     "output_type": "stream",
     "text": [
      "100\n",
      "[*********************100%***********************]  100 of 100 completed\n",
      "[*********************100%***********************]  100 of 100 completed\n",
      "[*********************100%***********************]  100 of 100 completed\n",
      "[*********************100%***********************]  100 of 100 completed\n",
      "[*********************100%***********************]  100 of 100 completed\n",
      "[*********************100%***********************]  100 of 100 completed\n",
      "[*********************100%***********************]  100 of 100 completed\n",
      "\n",
      "1 Failed download:\n",
      "- GRASIM-RE.NS: No data found for this date range, symbol may be delisted\n",
      "[*********************100%***********************]  100 of 100 completed\n",
      "[*********************100%***********************]  100 of 100 completed\n",
      "\n",
      "1 Failed download:\n",
      "- KALYANI.NS: No data found for this date range, symbol may be delisted\n",
      "[*********************100%***********************]  100 of 100 completed\n",
      "[*********************100%***********************]  100 of 100 completed\n",
      "[*********************100%***********************]  100 of 100 completed\n",
      "[*********************100%***********************]  100 of 100 completed\n",
      "\n",
      "1 Failed download:\n",
      "- NIRAJISPAT.NS: No data found for this date range, symbol may be delisted\n",
      "[*********************100%***********************]  100 of 100 completed\n",
      "[*********************100%***********************]  100 of 100 completed\n",
      "[*********************100%***********************]  100 of 100 completed\n",
      "[*********************100%***********************]  100 of 100 completed\n",
      "[*********************100%***********************]  100 of 100 completed\n",
      "[*********************100%***********************]  100 of 100 completed\n",
      "[*********************100%***********************]  35 of 35 completed\n"
     ]
    }
   ],
   "source": [
    "len(stocks_list)\n",
    "stocks_list_NSE=list(map(lambda x: x+\".NS\",stocks_list))\n",
    "dfs=[]\n",
    "def execute_in_batches(lst):\n",
    "    batch_size = 100\n",
    "    print(batch_size)\n",
    "    for i in range(0, len(stocks_list), batch_size):\n",
    "        yahoo_data = yf.download(lst[i:i+batch_size],start=start_date,end=end_date)\n",
    "        dfs.append(yahoo_data)\n",
    "    return pd.concat(dfs)\n",
    "        \n",
    "#         print(\"Batch\", i // batch_size + 1, \":\", lst[i:i+batch_size])\n",
    "            \n",
    "final_df = execute_in_batches(stocks_list_NSE)"
   ]
  },
  {
   "cell_type": "code",
   "execution_count": 8,
   "metadata": {},
   "outputs": [
    {
     "ename": "NameError",
     "evalue": "name 'yahoo_data' is not defined",
     "output_type": "error",
     "traceback": [
      "\u001b[0;31m---------------------------------------------------------------------------\u001b[0m",
      "\u001b[0;31mNameError\u001b[0m                                 Traceback (most recent call last)",
      "\u001b[0;32m<ipython-input-8-1472c19bd5db>\u001b[0m in \u001b[0;36m<module>\u001b[0;34m\u001b[0m\n\u001b[0;32m----> 1\u001b[0;31m \u001b[0myahoo_data\u001b[0m\u001b[0;34m\u001b[0m\u001b[0;34m\u001b[0m\u001b[0m\n\u001b[0m",
      "\u001b[0;31mNameError\u001b[0m: name 'yahoo_data' is not defined"
     ]
    }
   ],
   "source": []
  },
  {
   "cell_type": "code",
   "execution_count": 9,
   "metadata": {},
   "outputs": [],
   "source": [
    "# for s in final_list:\n",
    "#     print(yahoo_data[('Adj Close',s)])\n",
    "\n",
    "\n",
    "# yahoo_data.loc[:,('Volume','ABB.NS')]\n",
    "# yahoo_data.to_csv(\"yahoo_data.csv\")\n",
    "yahoo_data=final_df\n",
    "data_single_index=yahoo_data.stack(level=1).rename_axis(['Date', 'Ticker']).reset_index(level=1)\n",
    "# yahoo_data.stack(level=1).rename_axis(['Date', 'Ticker'])"
   ]
  },
  {
   "cell_type": "code",
   "execution_count": 10,
   "metadata": {},
   "outputs": [
    {
     "name": "stdout",
     "output_type": "stream",
     "text": [
      "could not work for ,  GRASIM-RE.NS\n",
      "could not work for ,  KALYANI.NS\n",
      "could not work for ,  NIRAJISPAT.NS\n"
     ]
    }
   ],
   "source": [
    "import warnings\n",
    "warnings.filterwarnings('ignore')\n",
    "\n",
    "sell_df=pd.DataFrame()\n",
    "buy_df = pd.DataFrame()\n",
    "\n",
    "for ticker in stocks_list_NSE:\n",
    "    try:\n",
    "        \n",
    "        temp_df = data_single_index[data_single_index['Ticker']==ticker]\n",
    "        # temp_df['rolling_volume'] = temp_df['Volume'].rolling(window='30D').mean()\n",
    "        temp_df.loc[:, 'rolling_volume'] = temp_df['Volume'].rolling(window='30D').mean()\n",
    "        temp_df['rolling_volume']=temp_df['rolling_volume'].astype(int)\n",
    "        temp_df['Volume']=temp_df['Volume'].astype(int)\n",
    "        # temp_df['greater_than_rolling_mean'] = temp_df.groupby('Ticker')['Volume'].rolling(window=3).apply(lambda x: (x > x.mean()).all()).reset_index(0, drop=True)\n",
    "        temp_df['vol_gt_avg']=temp_df.apply(lambda row:1 if row['Volume']> row['rolling_volume'] else 0 , axis=1)\n",
    "        last_three_days = temp_df.iloc[-4:]\n",
    "        price_increase_in_last_three_days = last_three_days['Close'].diff().dropna() > 0\n",
    "        price_decrease_in_last_three_days = last_three_days['Close'].diff().dropna() < 0\n",
    "        volume_flag = last_three_days['vol_gt_avg'].all()==1\n",
    "    #     print(\"for ticker \", ticker)\n",
    "    #     print(volume_flag)\n",
    "        if price_decrease_in_last_three_days.all() and volume_flag:\n",
    "    #         print(f' Sell Signal for : {ticker}')\n",
    "    #         print(last_three_days)\n",
    "            sell_df = pd.concat([sell_df,last_three_days])\n",
    "        if price_increase_in_last_three_days.all() and volume_flag:\n",
    "    #         print(f' Buy Signal for : {ticker}' )\n",
    "    #         print(last_three_days)\n",
    "            buy_df=pd.concat([buy_df,last_three_days])\n",
    "    except:\n",
    "        print(\"could not work for , \",ticker)\n",
    "    \n",
    "\n",
    "# print(f'BUY recommendation are {buy_df[[\"Ticker\",\"Close\"]]}' )\n",
    "# print(f'SELL recommendation are {sell_df[[\"Ticker\",\"Close\"]]}')"
   ]
  },
  {
   "cell_type": "code",
   "execution_count": null,
   "metadata": {},
   "outputs": [],
   "source": [
    "\n",
    "with pd.option_context('display.max_rows', None,\n",
    "                       'display.max_columns', None,\n",
    "                       'display.precision', 3,\n",
    "                       ):\n",
    "    display(buy_df[['Ticker','Close']])\n"
   ]
  },
  {
   "cell_type": "code",
   "execution_count": null,
   "metadata": {},
   "outputs": [],
   "source": [
    "price_increase_in_last_three_days.all()"
   ]
  },
  {
   "cell_type": "code",
   "execution_count": null,
   "metadata": {},
   "outputs": [],
   "source": [
    "last_three_days['vol_gt_avg'].all()"
   ]
  },
  {
   "cell_type": "code",
   "execution_count": null,
   "metadata": {},
   "outputs": [],
   "source": [
    "buy_df['Ticker'].unique"
   ]
  }
 ],
 "metadata": {
  "kernelspec": {
   "display_name": "Python 3",
   "language": "python",
   "name": "python3"
  },
  "language_info": {
   "codemirror_mode": {
    "name": "ipython",
    "version": 3
   },
   "file_extension": ".py",
   "mimetype": "text/x-python",
   "name": "python",
   "nbconvert_exporter": "python",
   "pygments_lexer": "ipython3",
   "version": "3.8.5"
  }
 },
 "nbformat": 4,
 "nbformat_minor": 4
}
