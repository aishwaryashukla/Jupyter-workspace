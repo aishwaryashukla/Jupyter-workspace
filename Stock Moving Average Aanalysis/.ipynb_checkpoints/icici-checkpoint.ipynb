{
 "cells": [
  {
   "cell_type": "code",
   "execution_count": 49,
   "metadata": {},
   "outputs": [],
   "source": [
    "\n",
    "# !pip install yfinance\n",
    "import unicodedata\n",
    "import pandas as pd\n",
    "import yfinance as yf\n",
    "import matplotlib.pyplot as plt\n",
    "from datetime import datetime\n",
    "import math\n"
   ]
  },
  {
   "cell_type": "code",
   "execution_count": 50,
   "metadata": {},
   "outputs": [],
   "source": [
    "sharekhan_portfolio_df = pd.read_csv(\"sharekhan.csv\",skiprows=4)\n",
    "sharekhan_stocks_list=sharekhan_portfolio_df['Stock Name'].to_list()\n",
    "start_date =\"2023-01-01\"\n",
    "end_date = datetime.today().strftime('%Y-%m-%d')"
   ]
  },
  {
   "cell_type": "code",
   "execution_count": 51,
   "metadata": {},
   "outputs": [],
   "source": [
    "icici_portfolio_df = pd.read_csv(\"icici_direct.csv\")\n",
    "icici_stocks_list = icici_portfolio_df['Stock Symbol'].to_list()\n",
    "# icici_stocks_list\n",
    "# len(icici_stocks_list)\n",
    "# icici_portfolio_df.columns\n",
    "# sharekhan_stocks_list"
   ]
  },
  {
   "cell_type": "code",
   "execution_count": 52,
   "metadata": {},
   "outputs": [],
   "source": [
    "\n",
    "sharekhan_stocks_list = list(filter(lambda x: not isinstance(x, float) or not math.isnan(x),sharekhan_stocks_list))\n",
    "# icici_stocks_list\n"
   ]
  },
  {
   "cell_type": "code",
   "execution_count": null,
   "metadata": {},
   "outputs": [],
   "source": []
  },
  {
   "cell_type": "code",
   "execution_count": 53,
   "metadata": {},
   "outputs": [
    {
     "name": "stdout",
     "output_type": "stream",
     "text": [
      " Final List = ['ASIANPAINT.NS', 'BEL.NS', 'BHARTIARTL.NS', 'DABUR.NS', 'GODREJCP.NS', 'HCLTECH.NS', 'HDFCBANK.NS', 'HINDUNILVR.NS', 'INDUSINDBK.NS', 'ITC.NS', 'JUBLFOOD.NS', 'KOTAKBANK.NS', 'LT.NS', 'MARUTI.NS', 'PIDILITIND.NS', 'PIIND.NS', 'RELIANCE.NS', 'TCS.NS', 'TECHM.NS', 'TITAN.NS', 'WIPRO.NS', 'ABB.NS', 'ADANIGREEN.NS', 'AXISBANK.NS', 'BAJAJFINSV.NS', 'COALINDIA.NS', 'CONCORDBIO.NS', 'CYIENT.NS', 'DRREDDY.NS', 'ENGINERSIN.NS', 'GNFC.NS', 'HAVELLS.NS', 'INFY.NS', 'JIOFIN.NS', 'KAJARIACER.NS', 'KEC.NS', 'KNRCON.NS', 'LICI.NS', 'LTTS.NS', 'NCC.NS', 'NEULANDLAB.NS', 'PAYTM.NS', 'PNCINFRA.NS', 'RVNL.NS', 'SBILIFE.NS', 'SBIN.NS', 'TITAGARH.NS', 'TRENT.NS', 'TV18BRDCST.NS', 'YESBANK.NS']\n",
      "[*********************100%***********************]  50 of 50 completed\n"
     ]
    }
   ],
   "source": [
    "df = pd.read_csv('EQUITY.csv')\n",
    "df=df[df[' ISIN NUMBER'].isin(icici_portfolio_df['ISIN Code'].to_list())]\n",
    "stocks_list = df['SYMBOL'].tolist()\n",
    "stocks_list_NSE = list(map(lambda x: x+\".NS\",stocks_list))\n",
    "stocks_list_Sharekhan = list(map(lambda x: x+\".NS\",sharekhan_stocks_list))\n",
    "final_list = [ls.replace(u'\\xa0', u'')  for ls in stocks_list_Sharekhan]\n",
    "final_list = final_list + stocks_list_NSE\n",
    "final_list = list(dict.fromkeys(final_list))\n",
    "print(f\" Final List = {final_list}\")\n",
    "yahoo_data = yf.download(final_list,start=start_date,end=end_date)"
   ]
  },
  {
   "cell_type": "code",
   "execution_count": null,
   "metadata": {},
   "outputs": [],
   "source": []
  },
  {
   "cell_type": "code",
   "execution_count": 54,
   "metadata": {},
   "outputs": [],
   "source": [
    "# for s in final_list:\n",
    "#     print(yahoo_data[('Adj Close',s)])\n",
    "\n",
    "\n",
    "# yahoo_data.loc[:,('Volume','ABB.NS')]\n",
    "# yahoo_data.to_csv(\"yahoo_data.csv\")\n",
    "yahoo_data\n",
    "data_single_index=yahoo_data.stack(level=1).rename_axis(['Date', 'Ticker']).reset_index(level=1)\n",
    "# yahoo_data.stack(level=1).rename_axis(['Date', 'Ticker'])"
   ]
  },
  {
   "cell_type": "code",
   "execution_count": 55,
   "metadata": {},
   "outputs": [],
   "source": [
    "data_single_index.to_csv(\"yahoo.csv\")"
   ]
  },
  {
   "cell_type": "code",
   "execution_count": 66,
   "metadata": {},
   "outputs": [
    {
     "name": "stdout",
     "output_type": "stream",
     "text": [
      "BUY recommendation are                    Ticker    Adj Close        Close         High          Low  \\\n",
      "Date                                                                            \n",
      "2024-01-23  INDUSINDBK.NS  1441.699951  1441.699951  1547.900024  1428.050049   \n",
      "2024-01-24  INDUSINDBK.NS  1490.849976  1490.849976  1495.800049  1442.000000   \n",
      "2024-01-25  INDUSINDBK.NS  1512.000000  1512.000000  1543.949951  1488.599976   \n",
      "2024-01-23          LT.NS  3551.000000  3551.000000  3661.350098  3536.199951   \n",
      "2024-01-24          LT.NS  3589.199951  3589.199951  3617.949951  3521.699951   \n",
      "2024-01-25          LT.NS  3593.449951  3593.449951  3618.250000  3564.800049   \n",
      "2024-01-23    RELIANCE.NS  2657.149902  2657.149902  2743.500000  2645.100098   \n",
      "2024-01-24    RELIANCE.NS  2687.750000  2687.750000  2699.000000  2647.850098   \n",
      "2024-01-25    RELIANCE.NS  2706.149902  2706.149902  2728.300049  2670.399902   \n",
      "2024-01-23  BAJAJFINSV.NS  1582.500000  1582.500000  1615.250000  1575.000000   \n",
      "2024-01-24  BAJAJFINSV.NS  1620.849976  1620.849976  1622.849976  1578.349976   \n",
      "2024-01-25  BAJAJFINSV.NS  1630.150024  1630.150024  1635.000000  1613.699951   \n",
      "2024-01-23   COALINDIA.NS   375.299988   375.299988   404.799988   373.649994   \n",
      "2024-01-24   COALINDIA.NS   382.600006   382.600006   387.799988   374.250000   \n",
      "2024-01-25   COALINDIA.NS   389.399994   389.399994   391.700012   385.350006   \n",
      "\n",
      "                   Open    Volume  rolling_volume  vol_gt_avg  \n",
      "Date                                                           \n",
      "2024-01-23  1535.000000  10097057         3065551           1  \n",
      "2024-01-24  1459.949951   9155544         3342368           1  \n",
      "2024-01-25  1490.000000   8118578         3660061           1  \n",
      "2024-01-23  3637.600098   1742142         1637979           1  \n",
      "2024-01-24  3570.000000   3711521         1732231           1  \n",
      "2024-01-25  3599.899902   2206540         1783789           1  \n",
      "2024-01-23  2743.500000  10027710         5039670           1  \n",
      "2024-01-24  2670.449951  10959564         5308756           1  \n",
      "2024-01-25  2685.899902   5904436         5407465           1  \n",
      "2024-01-23  1597.449951   3028946         1139179           1  \n",
      "2024-01-24  1594.699951   1393463         1150737           1  \n",
      "2024-01-25  1621.750000   1744604         1171115           1  \n",
      "2024-01-23   403.500000  16406737        11781957           1  \n",
      "2024-01-24   379.799988  22938994        12289095           1  \n",
      "2024-01-25   386.799988  13440949        12358672           1  \n",
      "SELL recommendation are                    Ticker    Adj Close        Close         High          Low  \\\n",
      "Date                                                                            \n",
      "2024-01-23  ASIANPAINT.NS  3054.699951  3054.699951  3109.000000  3021.550049   \n",
      "2024-01-24  ASIANPAINT.NS  2999.449951  2999.449951  3055.000000  2976.100098   \n",
      "2024-01-25  ASIANPAINT.NS  2949.199951  2949.199951  3016.000000  2942.300049   \n",
      "2024-01-23         TCS.NS  3858.250000  3858.250000  3933.899902  3842.750000   \n",
      "2024-01-24         TCS.NS  3841.800049  3841.800049  3883.649902  3805.600098   \n",
      "2024-01-25         TCS.NS  3810.300049  3810.300049  3861.000000  3778.699951   \n",
      "2024-01-23    AXISBANK.NS  1089.250000  1089.250000  1141.599976  1078.800049   \n",
      "2024-01-24    AXISBANK.NS  1059.150024  1059.150024  1073.199951  1020.900024   \n",
      "2024-01-25    AXISBANK.NS  1042.250000  1042.250000  1063.699951  1025.800049   \n",
      "2024-01-23      CYIENT.NS  2120.000000  2120.000000  2289.500000  2101.000000   \n",
      "2024-01-24      CYIENT.NS  2043.849976  2043.849976  2130.899902  1916.349976   \n",
      "2024-01-25      CYIENT.NS  2019.650024  2019.650024  2075.550049  1952.900024   \n",
      "\n",
      "                   Open    Volume  rolling_volume  vol_gt_avg  \n",
      "Date                                                           \n",
      "2024-01-23  3087.550049   2365225          826484           1  \n",
      "2024-01-24  3055.000000   2665932          910095           1  \n",
      "2024-01-25  3010.050049   2001961          973812           1  \n",
      "2024-01-23  3900.000000   2618854         2056502           1  \n",
      "2024-01-24  3880.000000   2657709         2083830           1  \n",
      "2024-01-25  3839.899902   2205154         2125645           1  \n",
      "2024-01-23  1125.900024  18924087         8725662           1  \n",
      "2024-01-24  1034.800049  20884046         9278316           1  \n",
      "2024-01-25  1058.000000  20835434         9966858           1  \n",
      "2024-01-23  2283.949951    368986          227862           1  \n",
      "2024-01-24  2130.850098    656335          247338           1  \n",
      "2024-01-25  2052.000000    405839          253401           1  \n"
     ]
    }
   ],
   "source": [
    "import warnings\n",
    "warnings.filterwarnings('ignore')\n",
    "\n",
    "sell_df=pd.DataFrame()\n",
    "buy_df = pd.DataFrame()\n",
    "\n",
    "for ticker in final_list:\n",
    "    temp_df = data_single_index[data_single_index['Ticker']==ticker]\n",
    "    # temp_df['rolling_volume'] = temp_df['Volume'].rolling(window='30D').mean()\n",
    "    temp_df.loc[:, 'rolling_volume'] = temp_df['Volume'].rolling(window='30D').mean()\n",
    "    temp_df['rolling_volume']=temp_df['rolling_volume'].astype(int)\n",
    "    temp_df['Volume']=temp_df['Volume'].astype(int)\n",
    "    # temp_df['greater_than_rolling_mean'] = temp_df.groupby('Ticker')['Volume'].rolling(window=3).apply(lambda x: (x > x.mean()).all()).reset_index(0, drop=True)\n",
    "    temp_df['vol_gt_avg']=temp_df.apply(lambda row:1 if row['Volume']> row['rolling_volume'] else 0 , axis=1)\n",
    "    last_three_days = temp_df.iloc[-3:]\n",
    "    price_increase_in_last_three_days = last_three_days['Close'].diff().dropna() > 0\n",
    "    price_decrease_in_last_three_days = last_three_days['Close'].diff().dropna() < 0\n",
    "    volume_flag = last_three_days['vol_gt_avg'].all()==1\n",
    "#     print(\"for ticker \", ticker)\n",
    "#     print(volume_flag)\n",
    "    if price_decrease_in_last_three_days.all() and volume_flag:\n",
    "#         print(f' Sell Signal for : {ticker}')\n",
    "#         print(last_three_days)\n",
    "        sell_df = pd.concat([sell_df,last_three_days])\n",
    "    if price_increase_in_last_three_days.all() and volume_flag:\n",
    "#         print(f' Buy Signal for : {ticker}' )\n",
    "#         print(last_three_days)\n",
    "        buy_df=pd.concat([buy_df,last_three_days])\n",
    "    \n",
    "\n",
    "print(f'BUY recommendation are {buy_df}' )\n",
    "print(f'SELL recommendation are {sell_df}')"
   ]
  },
  {
   "cell_type": "code",
   "execution_count": 57,
   "metadata": {},
   "outputs": [],
   "source": [
    "price_increase_in_last_three_days = last_three_days['Close'].diff().dropna() > 0"
   ]
  },
  {
   "cell_type": "code",
   "execution_count": 58,
   "metadata": {},
   "outputs": [
    {
     "data": {
      "text/plain": [
       "True"
      ]
     },
     "execution_count": 58,
     "metadata": {},
     "output_type": "execute_result"
    }
   ],
   "source": [
    "price_increase_in_last_three_days.all()"
   ]
  },
  {
   "cell_type": "code",
   "execution_count": 59,
   "metadata": {},
   "outputs": [
    {
     "data": {
      "text/plain": [
       "False"
      ]
     },
     "execution_count": 59,
     "metadata": {},
     "output_type": "execute_result"
    }
   ],
   "source": [
    "last_three_days['vol_gt_avg'].all()"
   ]
  },
  {
   "cell_type": "code",
   "execution_count": null,
   "metadata": {},
   "outputs": [],
   "source": []
  }
 ],
 "metadata": {
  "kernelspec": {
   "display_name": "Python 3",
   "language": "python",
   "name": "python3"
  },
  "language_info": {
   "codemirror_mode": {
    "name": "ipython",
    "version": 3
   },
   "file_extension": ".py",
   "mimetype": "text/x-python",
   "name": "python",
   "nbconvert_exporter": "python",
   "pygments_lexer": "ipython3",
   "version": "3.8.5"
  }
 },
 "nbformat": 4,
 "nbformat_minor": 4
}
