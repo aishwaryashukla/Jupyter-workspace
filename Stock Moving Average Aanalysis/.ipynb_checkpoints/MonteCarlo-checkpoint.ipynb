{
 "cells": [
  {
   "cell_type": "code",
   "execution_count": 12,
   "metadata": {},
   "outputs": [],
   "source": [
    "import pandas as pd\n",
    "import numpy as np\n",
    "import seaborn as sns\n",
    "sns.set_style('whitegrid')\n",
    "\n",
    "\n",
    "\n",
    "avg = 1\n",
    "std_dev = .1\n",
    "num_reps = 500\n",
    "num_simulation = 1000\n",
    "\n",
    "pct_to_target = np.random.normal(avg,std_dev, num_reps).round(2)\n",
    "sales_target_values = [75_000, 100_000, 200_000, 300_000, 400_000, 500_000]\n",
    "sales_target_values\n",
    "sales_target_prob = [.3, .3, .2, .1, .05, .05]\n",
    "sales_target = np.random.choice(sales_target_values, num_reps, p=sales_target_prob)\n",
    "\n",
    "\n",
    "\n",
    "df = pd.DataFrame(index=range(num_reps), data={'Pct_To_Target': pct_to_target,\n",
    "                                               'Sales_Target': sales_target})\n",
    "\n",
    "df['Sales'] = df['Pct_To_Target'] * df['Sales_Target']\n",
    "\n",
    "def calc_commission_rate(x):\n",
    "    \"\"\" Return the commission rate based on the table:\n",
    "    0-90% = 2%\n",
    "    91-99% = 3%\n",
    "    >= 100 = 4%\n",
    "    \"\"\"\n",
    "    if x <= .90:\n",
    "        return .02\n",
    "    if x <= .99:\n",
    "        return .03\n",
    "    else:\n",
    "        return .04\n",
    "    \n",
    "    \n",
    "df['Commission_Rate'] = df['Pct_To_Target'].apply(calc_commission_rate)\n",
    "df['Commission_Amount'] = df['Commission_Rate'] * df['Sales']\n",
    "# df"
   ]
  },
  {
   "cell_type": "code",
   "execution_count": 14,
   "metadata": {},
   "outputs": [],
   "source": [
    "# Define a list to keep all the results from each simulation that we want to analyze\n",
    "all_stats = []\n",
    "\n",
    "# Loop through many simulations\n",
    "for i in range(num_simulation):\n",
    "\n",
    "    # Choose random inputs for the sales targets and percent to target\n",
    "    sales_target = np.random.choice(sales_target_values, num_reps, p=sales_target_prob)\n",
    "    pct_to_target = np.random.normal(avg, std_dev, num_reps).round(2)\n",
    "\n",
    "    # Build the dataframe based on the inputs and number of reps\n",
    "    df = pd.DataFrame(index=range(num_reps), data={'Pct_To_Target': pct_to_target,\n",
    "                                                   'Sales_Target': sales_target})\n",
    "\n",
    "    # Back into the sales number using the percent to target rate\n",
    "    df['Sales'] = df['Pct_To_Target'] * df['Sales_Target']\n",
    "\n",
    "    # Determine the commissions rate and calculate it\n",
    "    df['Commission_Rate'] = df['Pct_To_Target'].apply(calc_commission_rate)\n",
    "    df['Commission_Amount'] = df['Commission_Rate'] * df['Sales']\n",
    "\n",
    "    # We want to track sales,commission amounts and sales targets over all the simulations\n",
    "    all_stats.append([df['Sales'].sum().round(0),\n",
    "                      df['Commission_Amount'].sum().round(0),\n",
    "                      df['Sales_Target'].sum().round(0)])"
   ]
  },
  {
   "cell_type": "code",
   "execution_count": 17,
   "metadata": {},
   "outputs": [
    {
     "data": {
      "text/html": [
       "<style  type=\"text/css\" >\n",
       "</style><table id=\"T_92a80fa2_4fe4_11eb_9086_3c9c0f89df81\" ><thead>    <tr>        <th class=\"blank level0\" ></th>        <th class=\"col_heading level0 col0\" >Sales</th>        <th class=\"col_heading level0 col1\" >Commission_Amount</th>        <th class=\"col_heading level0 col2\" >Sales_Target</th>    </tr></thead><tbody>\n",
       "                <tr>\n",
       "                        <th id=\"T_92a80fa2_4fe4_11eb_9086_3c9c0f89df81level0_row0\" class=\"row_heading level0 row0\" >count</th>\n",
       "                        <td id=\"T_92a80fa2_4fe4_11eb_9086_3c9c0f89df81row0_col0\" class=\"data row0 col0\" >1,000.0</td>\n",
       "                        <td id=\"T_92a80fa2_4fe4_11eb_9086_3c9c0f89df81row0_col1\" class=\"data row0 col1\" >1,000.0</td>\n",
       "                        <td id=\"T_92a80fa2_4fe4_11eb_9086_3c9c0f89df81row0_col2\" class=\"data row0 col2\" >1,000.0</td>\n",
       "            </tr>\n",
       "            <tr>\n",
       "                        <th id=\"T_92a80fa2_4fe4_11eb_9086_3c9c0f89df81level0_row1\" class=\"row_heading level0 row1\" >mean</th>\n",
       "                        <td id=\"T_92a80fa2_4fe4_11eb_9086_3c9c0f89df81row1_col0\" class=\"data row1 col0\" >83,661,912.5</td>\n",
       "                        <td id=\"T_92a80fa2_4fe4_11eb_9086_3c9c0f89df81row1_col1\" class=\"data row1 col1\" >2,855,675.412</td>\n",
       "                        <td id=\"T_92a80fa2_4fe4_11eb_9086_3c9c0f89df81row1_col2\" class=\"data row1 col2\" >83,687,250.0</td>\n",
       "            </tr>\n",
       "            <tr>\n",
       "                        <th id=\"T_92a80fa2_4fe4_11eb_9086_3c9c0f89df81level0_row2\" class=\"row_heading level0 row2\" >std</th>\n",
       "                        <td id=\"T_92a80fa2_4fe4_11eb_9086_3c9c0f89df81row2_col0\" class=\"data row2 col0\" >2,687,296.936476014</td>\n",
       "                        <td id=\"T_92a80fa2_4fe4_11eb_9086_3c9c0f89df81row2_col1\" class=\"data row2 col1\" >101,857.06131092313</td>\n",
       "                        <td id=\"T_92a80fa2_4fe4_11eb_9086_3c9c0f89df81row2_col2\" class=\"data row2 col2\" >2,648,018.965555561</td>\n",
       "            </tr>\n",
       "            <tr>\n",
       "                        <th id=\"T_92a80fa2_4fe4_11eb_9086_3c9c0f89df81level0_row3\" class=\"row_heading level0 row3\" >min</th>\n",
       "                        <td id=\"T_92a80fa2_4fe4_11eb_9086_3c9c0f89df81row3_col0\" class=\"data row3 col0\" >75,745,750.0</td>\n",
       "                        <td id=\"T_92a80fa2_4fe4_11eb_9086_3c9c0f89df81row3_col1\" class=\"data row3 col1\" >2,537,560.0</td>\n",
       "                        <td id=\"T_92a80fa2_4fe4_11eb_9086_3c9c0f89df81row3_col2\" class=\"data row3 col2\" >76,375,000.0</td>\n",
       "            </tr>\n",
       "            <tr>\n",
       "                        <th id=\"T_92a80fa2_4fe4_11eb_9086_3c9c0f89df81level0_row4\" class=\"row_heading level0 row4\" >25%</th>\n",
       "                        <td id=\"T_92a80fa2_4fe4_11eb_9086_3c9c0f89df81row4_col0\" class=\"data row4 col0\" >81,912,500.0</td>\n",
       "                        <td id=\"T_92a80fa2_4fe4_11eb_9086_3c9c0f89df81row4_col1\" class=\"data row4 col1\" >2,789,399.25</td>\n",
       "                        <td id=\"T_92a80fa2_4fe4_11eb_9086_3c9c0f89df81row4_col2\" class=\"data row4 col2\" >81,943,750.0</td>\n",
       "            </tr>\n",
       "            <tr>\n",
       "                        <th id=\"T_92a80fa2_4fe4_11eb_9086_3c9c0f89df81level0_row5\" class=\"row_heading level0 row5\" >50%</th>\n",
       "                        <td id=\"T_92a80fa2_4fe4_11eb_9086_3c9c0f89df81row5_col0\" class=\"data row5 col0\" >83,593,250.0</td>\n",
       "                        <td id=\"T_92a80fa2_4fe4_11eb_9086_3c9c0f89df81row5_col1\" class=\"data row5 col1\" >2,853,526.0</td>\n",
       "                        <td id=\"T_92a80fa2_4fe4_11eb_9086_3c9c0f89df81row5_col2\" class=\"data row5 col2\" >83,587,500.0</td>\n",
       "            </tr>\n",
       "            <tr>\n",
       "                        <th id=\"T_92a80fa2_4fe4_11eb_9086_3c9c0f89df81level0_row6\" class=\"row_heading level0 row6\" >75%</th>\n",
       "                        <td id=\"T_92a80fa2_4fe4_11eb_9086_3c9c0f89df81row6_col0\" class=\"data row6 col0\" >85,488,937.5</td>\n",
       "                        <td id=\"T_92a80fa2_4fe4_11eb_9086_3c9c0f89df81row6_col1\" class=\"data row6 col1\" >2,920,953.5</td>\n",
       "                        <td id=\"T_92a80fa2_4fe4_11eb_9086_3c9c0f89df81row6_col2\" class=\"data row6 col2\" >85,406,250.0</td>\n",
       "            </tr>\n",
       "            <tr>\n",
       "                        <th id=\"T_92a80fa2_4fe4_11eb_9086_3c9c0f89df81level0_row7\" class=\"row_heading level0 row7\" >max</th>\n",
       "                        <td id=\"T_92a80fa2_4fe4_11eb_9086_3c9c0f89df81row7_col0\" class=\"data row7 col0\" >93,065,250.0</td>\n",
       "                        <td id=\"T_92a80fa2_4fe4_11eb_9086_3c9c0f89df81row7_col1\" class=\"data row7 col1\" >3,175,545.0</td>\n",
       "                        <td id=\"T_92a80fa2_4fe4_11eb_9086_3c9c0f89df81row7_col2\" class=\"data row7 col2\" >93,200,000.0</td>\n",
       "            </tr>\n",
       "    </tbody></table>"
      ],
      "text/plain": [
       "<pandas.io.formats.style.Styler at 0x2a366c60580>"
      ]
     },
     "execution_count": 17,
     "metadata": {},
     "output_type": "execute_result"
    }
   ],
   "source": [
    "results_df = pd.DataFrame.from_records(all_stats, columns=['Sales',\n",
    "                                                           'Commission_Amount',\n",
    "                                                           'Sales_Target'])\n",
    "\n",
    "results_df.describe().style.format('{:,}')"
   ]
  },
  {
   "cell_type": "code",
   "execution_count": 18,
   "metadata": {},
   "outputs": [
    {
     "data": {
      "text/plain": [
       "<AxesSubplot:title={'center':'Total Commission Amount'}, ylabel='Frequency'>"
      ]
     },
     "execution_count": 18,
     "metadata": {},
     "output_type": "execute_result"
    },
    {
     "data": {
      "image/png": "[encoded data removed]",
      "text/plain": [
       "<Figure size 432x288 with 1 Axes>"
      ]
     },
     "metadata": {},
     "output_type": "display_data"
    }
   ],
   "source": [
    "results_df['Commission_Amount'].plot(kind='hist', title=\"Total Commission Amount\")"
   ]
  }
 ],
 "metadata": {
  "kernelspec": {
   "display_name": "Python 3",
   "language": "python",
   "name": "python3"
  },
  "language_info": {
   "codemirror_mode": {
    "name": "ipython",
    "version": 3
   },
   "file_extension": ".py",
   "mimetype": "text/x-python",
   "name": "python",
   "nbconvert_exporter": "python",
   "pygments_lexer": "ipython3",
   "version": "3.8.5"
  }
 },
 "nbformat": 4,
 "nbformat_minor": 4
}
