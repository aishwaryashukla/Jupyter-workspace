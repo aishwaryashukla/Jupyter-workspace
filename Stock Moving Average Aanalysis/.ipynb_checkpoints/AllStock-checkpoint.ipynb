{
 "cells": [
  {
   "cell_type": "code",
   "execution_count": 13,
   "metadata": {},
   "outputs": [],
   "source": [
    "\n",
    "# !pip install yfinance\n",
    "import unicodedata\n",
    "import pandas as pd\n",
    "import yfinance as yf\n",
    "import matplotlib.pyplot as plt\n",
    "from datetime import datetime\n",
    "import math\n"
   ]
  },
  {
   "cell_type": "code",
   "execution_count": 14,
   "metadata": {},
   "outputs": [],
   "source": [
    "sharekhan_portfolio_df = pd.read_csv(\"sharekhan.csv\",skiprows=4)\n",
    "sharekhan_stocks_list=sharekhan_portfolio_df['Stock Name'].to_list()\n",
    "start_date =\"2023-01-01\"\n",
    "end_date = datetime.today().strftime('%Y-%m-%d')"
   ]
  },
  {
   "cell_type": "code",
   "execution_count": 15,
   "metadata": {},
   "outputs": [],
   "source": [
    "icici_portfolio_df = pd.read_csv(\"icici_direct.csv\")\n",
    "icici_stocks_list = icici_portfolio_df['Stock Symbol'].to_list()\n",
    "# icici_stocks_list\n",
    "# len(icici_stocks_list)\n",
    "# icici_portfolio_df.columns\n",
    "# sharekhan_stocks_list"
   ]
  },
  {
   "cell_type": "code",
   "execution_count": 16,
   "metadata": {},
   "outputs": [],
   "source": [
    "\n",
    "sharekhan_stocks_list = list(filter(lambda x: not isinstance(x, float) or not math.isnan(x),sharekhan_stocks_list))\n",
    "# icici_stocks_list\n"
   ]
  },
  {
   "cell_type": "code",
   "execution_count": null,
   "metadata": {},
   "outputs": [],
   "source": []
  },
  {
   "cell_type": "code",
   "execution_count": 17,
   "metadata": {},
   "outputs": [
    {
     "name": "stdout",
     "output_type": "stream",
     "text": [
      " Final List = ['ASIANPAINT.NS', 'BEL.NS', 'BHARTIARTL.NS', 'DABUR.NS', 'GODREJCP.NS', 'HCLTECH.NS', 'HDFCBANK.NS', 'HINDUNILVR.NS', 'INDUSINDBK.NS', 'ITC.NS', 'JUBLFOOD.NS', 'KOTAKBANK.NS', 'LT.NS', 'MARUTI.NS', 'PIDILITIND.NS', 'PIIND.NS', 'RELIANCE.NS', 'TCS.NS', 'TECHM.NS', 'TITAN.NS', 'WIPRO.NS', 'ABB.NS', 'ADANIGREEN.NS', 'AXISBANK.NS', 'BAJAJFINSV.NS', 'COALINDIA.NS', 'CONCORDBIO.NS', 'CYIENT.NS', 'DRREDDY.NS', 'ENGINERSIN.NS', 'GNFC.NS', 'HAVELLS.NS', 'INFY.NS', 'JIOFIN.NS', 'KAJARIACER.NS', 'KEC.NS', 'KNRCON.NS', 'LICI.NS', 'LTTS.NS', 'NCC.NS', 'NEULANDLAB.NS', 'PAYTM.NS', 'PNCINFRA.NS', 'RVNL.NS', 'SBILIFE.NS', 'SBIN.NS', 'TITAGARH.NS', 'TRENT.NS', 'TV18BRDCST.NS', 'YESBANK.NS']\n",
      "[*********************100%***********************]  50 of 50 completed\n"
     ]
    }
   ],
   "source": [
    "df = pd.read_csv('EQUITY.csv')\n",
    "df=df[df[' ISIN NUMBER'].isin(icici_portfolio_df['ISIN Code'].to_list())]\n",
    "stocks_list = df['SYMBOL'].tolist()\n",
    "stocks_list_NSE = list(map(lambda x: x+\".NS\",stocks_list))\n",
    "stocks_list_Sharekhan = list(map(lambda x: x+\".NS\",sharekhan_stocks_list))\n",
    "final_list = [ls.replace(u'\\xa0', u'')  for ls in stocks_list_Sharekhan]\n",
    "final_list = final_list + stocks_list_NSE\n",
    "final_list = list(dict.fromkeys(final_list))\n",
    "print(f\" Final List = {final_list}\")\n",
    "yahoo_data = yf.download(final_list,start=start_date,end=end_date)"
   ]
  },
  {
   "cell_type": "code",
   "execution_count": null,
   "metadata": {},
   "outputs": [],
   "source": []
  },
  {
   "cell_type": "code",
   "execution_count": 18,
   "metadata": {},
   "outputs": [],
   "source": [
    "# for s in final_list:\n",
    "#     print(yahoo_data[('Adj Close',s)])\n",
    "\n",
    "\n",
    "# yahoo_data.loc[:,('Volume','ABB.NS')]\n",
    "# yahoo_data.to_csv(\"yahoo_data.csv\")\n",
    "yahoo_data\n",
    "data_single_index=yahoo_data.stack(level=1).rename_axis(['Date', 'Ticker']).reset_index(level=1)\n",
    "# yahoo_data.stack(level=1).rename_axis(['Date', 'Ticker'])"
   ]
  },
  {
   "cell_type": "code",
   "execution_count": 19,
   "metadata": {},
   "outputs": [],
   "source": [
    "data_single_index.to_csv(\"yahoo.csv\")"
   ]
  },
  {
   "cell_type": "code",
   "execution_count": 20,
   "metadata": {},
   "outputs": [
    {
     "name": "stdout",
     "output_type": "stream",
     "text": [
      "BUY recommendation are              Ticker        Close\n",
      "Date                            \n",
      "2024-02-02  LICI.NS   945.450012\n",
      "2024-02-05  LICI.NS   998.849976\n",
      "2024-02-06  LICI.NS  1025.849976\n",
      "2024-02-07  LICI.NS  1044.449951\n",
      "SELL recommendation are                  Ticker       Close\n",
      "Date                               \n",
      "2024-02-02  JUBLFOOD.NS  494.850006\n",
      "2024-02-05  JUBLFOOD.NS  484.850006\n",
      "2024-02-06  JUBLFOOD.NS  479.850006\n",
      "2024-02-07  JUBLFOOD.NS  476.000000\n"
     ]
    }
   ],
   "source": [
    "import warnings\n",
    "warnings.filterwarnings('ignore')\n",
    "\n",
    "sell_df=pd.DataFrame()\n",
    "buy_df = pd.DataFrame()\n",
    "\n",
    "for ticker in final_list:\n",
    "    temp_df = data_single_index[data_single_index['Ticker']==ticker]\n",
    "    # temp_df['rolling_volume'] = temp_df['Volume'].rolling(window='30D').mean()\n",
    "    temp_df.loc[:, 'rolling_volume'] = temp_df['Volume'].rolling(window='30D').mean()\n",
    "    temp_df['rolling_volume']=temp_df['rolling_volume'].astype(int)\n",
    "    temp_df['Volume']=temp_df['Volume'].astype(int)\n",
    "    # temp_df['greater_than_rolling_mean'] = temp_df.groupby('Ticker')['Volume'].rolling(window=3).apply(lambda x: (x > x.mean()).all()).reset_index(0, drop=True)\n",
    "    temp_df['vol_gt_avg']=temp_df.apply(lambda row:1 if row['Volume']> row['rolling_volume'] else 0 , axis=1)\n",
    "    last_three_days = temp_df.iloc[-4:]\n",
    "    price_increase_in_last_three_days = last_three_days['Close'].diff().dropna() > 0\n",
    "    price_decrease_in_last_three_days = last_three_days['Close'].diff().dropna() < 0\n",
    "    volume_flag = last_three_days['vol_gt_avg'].all()==1\n",
    "#     print(\"for ticker \", ticker)\n",
    "#     print(volume_flag)\n",
    "    if price_decrease_in_last_three_days.all() and volume_flag:\n",
    "#         print(f' Sell Signal for : {ticker}')\n",
    "#         print(last_three_days)\n",
    "        sell_df = pd.concat([sell_df,last_three_days])\n",
    "    if price_increase_in_last_three_days.all() and volume_flag:\n",
    "#         print(f' Buy Signal for : {ticker}' )\n",
    "#         print(last_three_days)\n",
    "        buy_df=pd.concat([buy_df,last_three_days])\n",
    "    \n",
    "\n",
    "print(f'BUY recommendation are {buy_df[[\"Ticker\",\"Close\"]]}' )\n",
    "print(f'SELL recommendation are {sell_df[[\"Ticker\",\"Close\"]]}')"
   ]
  },
  {
   "cell_type": "code",
   "execution_count": 21,
   "metadata": {},
   "outputs": [
    {
     "data": {
      "text/html": [
       "<div>\n",
       "<style scoped>\n",
       "    .dataframe tbody tr th:only-of-type {\n",
       "        vertical-align: middle;\n",
       "    }\n",
       "\n",
       "    .dataframe tbody tr th {\n",
       "        vertical-align: top;\n",
       "    }\n",
       "\n",
       "    .dataframe thead th {\n",
       "        text-align: right;\n",
       "    }\n",
       "</style>\n",
       "<table border=\"1\" class=\"dataframe\">\n",
       "  <thead>\n",
       "    <tr style=\"text-align: right;\">\n",
       "      <th></th>\n",
       "      <th>Ticker</th>\n",
       "      <th>Close</th>\n",
       "    </tr>\n",
       "    <tr>\n",
       "      <th>Date</th>\n",
       "      <th></th>\n",
       "      <th></th>\n",
       "    </tr>\n",
       "  </thead>\n",
       "  <tbody>\n",
       "    <tr>\n",
       "      <th>2024-02-02</th>\n",
       "      <td>LICI.NS</td>\n",
       "      <td>945.450012</td>\n",
       "    </tr>\n",
       "    <tr>\n",
       "      <th>2024-02-05</th>\n",
       "      <td>LICI.NS</td>\n",
       "      <td>998.849976</td>\n",
       "    </tr>\n",
       "    <tr>\n",
       "      <th>2024-02-06</th>\n",
       "      <td>LICI.NS</td>\n",
       "      <td>1025.849976</td>\n",
       "    </tr>\n",
       "    <tr>\n",
       "      <th>2024-02-07</th>\n",
       "      <td>LICI.NS</td>\n",
       "      <td>1044.449951</td>\n",
       "    </tr>\n",
       "  </tbody>\n",
       "</table>\n",
       "</div>"
      ],
      "text/plain": [
       "             Ticker        Close\n",
       "Date                            \n",
       "2024-02-02  LICI.NS   945.450012\n",
       "2024-02-05  LICI.NS   998.849976\n",
       "2024-02-06  LICI.NS  1025.849976\n",
       "2024-02-07  LICI.NS  1044.449951"
      ]
     },
     "execution_count": 21,
     "metadata": {},
     "output_type": "execute_result"
    }
   ],
   "source": [
    "buy_df[['Ticker','Close']]"
   ]
  },
  {
   "cell_type": "code",
   "execution_count": 22,
   "metadata": {},
   "outputs": [
    {
     "data": {
      "text/plain": [
       "False"
      ]
     },
     "execution_count": 22,
     "metadata": {},
     "output_type": "execute_result"
    }
   ],
   "source": [
    "price_increase_in_last_three_days.all()"
   ]
  },
  {
   "cell_type": "code",
   "execution_count": 23,
   "metadata": {},
   "outputs": [
    {
     "data": {
      "text/plain": [
       "False"
      ]
     },
     "execution_count": 23,
     "metadata": {},
     "output_type": "execute_result"
    }
   ],
   "source": [
    "last_three_days['vol_gt_avg'].all()"
   ]
  },
  {
   "cell_type": "code",
   "execution_count": 24,
   "metadata": {},
   "outputs": [
    {
     "data": {
      "text/html": [
       "<div>\n",
       "<style scoped>\n",
       "    .dataframe tbody tr th:only-of-type {\n",
       "        vertical-align: middle;\n",
       "    }\n",
       "\n",
       "    .dataframe tbody tr th {\n",
       "        vertical-align: top;\n",
       "    }\n",
       "\n",
       "    .dataframe thead th {\n",
       "        text-align: right;\n",
       "    }\n",
       "</style>\n",
       "<table border=\"1\" class=\"dataframe\">\n",
       "  <thead>\n",
       "    <tr style=\"text-align: right;\">\n",
       "      <th></th>\n",
       "      <th>Close</th>\n",
       "      <th>Ticker</th>\n",
       "    </tr>\n",
       "    <tr>\n",
       "      <th>Date</th>\n",
       "      <th></th>\n",
       "      <th></th>\n",
       "    </tr>\n",
       "  </thead>\n",
       "  <tbody>\n",
       "    <tr>\n",
       "      <th>2024-02-02</th>\n",
       "      <td>945.450012</td>\n",
       "      <td>LICI.NS</td>\n",
       "    </tr>\n",
       "    <tr>\n",
       "      <th>2024-02-05</th>\n",
       "      <td>998.849976</td>\n",
       "      <td>LICI.NS</td>\n",
       "    </tr>\n",
       "    <tr>\n",
       "      <th>2024-02-06</th>\n",
       "      <td>1025.849976</td>\n",
       "      <td>LICI.NS</td>\n",
       "    </tr>\n",
       "    <tr>\n",
       "      <th>2024-02-07</th>\n",
       "      <td>1044.449951</td>\n",
       "      <td>LICI.NS</td>\n",
       "    </tr>\n",
       "  </tbody>\n",
       "</table>\n",
       "</div>"
      ],
      "text/plain": [
       "                  Close   Ticker\n",
       "Date                            \n",
       "2024-02-02   945.450012  LICI.NS\n",
       "2024-02-05   998.849976  LICI.NS\n",
       "2024-02-06  1025.849976  LICI.NS\n",
       "2024-02-07  1044.449951  LICI.NS"
      ]
     },
     "execution_count": 24,
     "metadata": {},
     "output_type": "execute_result"
    }
   ],
   "source": [
    "buy_df[['Close','Ticker']]"
   ]
  }
 ],
 "metadata": {
  "kernelspec": {
   "display_name": "Python 3",
   "language": "python",
   "name": "python3"
  },
  "language_info": {
   "codemirror_mode": {
    "name": "ipython",
    "version": 3
   },
   "file_extension": ".py",
   "mimetype": "text/x-python",
   "name": "python",
   "nbconvert_exporter": "python",
   "pygments_lexer": "ipython3",
   "version": "3.8.5"
  }
 },
 "nbformat": 4,
 "nbformat_minor": 4
}
