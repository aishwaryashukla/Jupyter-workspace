{
 "cells": [
  {
   "cell_type": "code",
   "execution_count": 8,
   "metadata": {},
   "outputs": [
    {
     "name": "stdout",
     "output_type": "stream",
     "text": [
      "Total pages: 1\n",
      "11012001\n",
      "Could not open file\n"
     ]
    }
   ],
   "source": [
    "# !pip install pikepdf\n",
    "from datetime import timedelta, date\n",
    "import pikepdf\n",
    "import datetime\n",
    "# dt  = datetime.date(2015, 1, 20)\n",
    "# print(dt.day)\n",
    "\n",
    "\n",
    "def daterange(start_date, end_date):\n",
    "    for n in range(int((end_date - start_date).days)):\n",
    "        yield start_date + timedelta(n)\n",
    "        \n",
    "        \n",
    "start_date = date(1984, 1, 1)\n",
    "end_date = date(2022, 1, 1)\n",
    "def open_pdf(f, msg):\n",
    "    with pikepdf.open(f,password=msg) as pdf:\n",
    "        num_pages = len(pdf.pages)\n",
    "        print(\"Total pages:\", num_pages)\n",
    "        \n",
    "for single_date in daterange(start_date, end_date):\n",
    "#     msg = single_date.strftime(\"%d%m%\")\n",
    "    msg = single_date.strftime(\"%d%m%Y\")\n",
    "#     print(msg)\n",
    "    try:\n",
    "#         open_pdf(\"a.PDF\",\"AISH\"+msg)\n",
    "        open_pdf(\"aa.pdf\",msg)\n",
    "        print(msg)\n",
    "        break\n",
    "    except:\n",
    "        print(end='')\n",
    "    \n",
    "print(\"Could not open file\")"
   ]
  },
  {
   "cell_type": "code",
   "execution_count": 6,
   "metadata": {},
   "outputs": [
    {
     "name": "stdout",
     "output_type": "stream",
     "text": [
      "Total pages: 2\n",
      "512261463\n",
      "Could not open file\n"
     ]
    }
   ],
   "source": [
    "# !pip install pikepdf\n",
    "from datetime import timedelta, date\n",
    "import pikepdf\n",
    "import datetime\n",
    "# dt  = datetime.date(2015, 1, 20)\n",
    "# print(dt.day)\n",
    "\n",
    "\n",
    "def daterange(start_date, end_date):\n",
    "    for n in range(int((end_date - start_date).days)):\n",
    "        yield start_date + timedelta(n)\n",
    "        \n",
    "        \n",
    "start_date = date(1984, 1, 1)\n",
    "end_date = date(2022, 1, 1)\n",
    "def open_pdf(f, msg):\n",
    "    with pikepdf.open(f,password=msg) as pdf:\n",
    "        num_pages = len(pdf.pages)\n",
    "        print(\"Total pages:\", num_pages)\n",
    "        \n",
    "# for single_date in daterange(start_date, end_date):\n",
    "for i in range(1,10000):\n",
    "    password = i*100000+61463\n",
    "#     print(password)\n",
    "#     msg = single_date.strftime(\"%d%m%\")\n",
    "#     msg = single_date.strftime(\"%d%m%Y\")\n",
    "#     print(msg)\n",
    "    try:\n",
    "#         open_pdf(\"a.PDF\",\"AISH\"+msg)\n",
    "        open_pdf(\"ab.pdf\",str(password))\n",
    "        print(password)\n",
    "        break\n",
    "    except:\n",
    "        print(end='')\n",
    "    \n",
    "print(\"Could not open file\")"
   ]
  },
  {
   "cell_type": "code",
   "execution_count": 12,
   "metadata": {},
   "outputs": [
    {
     "name": "stdout",
     "output_type": "stream",
     "text": [
      "7.0\n"
     ]
    }
   ],
   "source": [
    "import numpy as np\n",
    "a = np.array([1,2,3,4,5,6,7])\n",
    "p = np.percentile(a, 100)  #Returns the 50th percentile which is also the median\n",
    "print(p)"
   ]
  },
  {
   "cell_type": "code",
   "execution_count": 40,
   "metadata": {},
   "outputs": [
    {
     "name": "stdout",
     "output_type": "stream",
     "text": [
      "75\n"
     ]
    }
   ],
   "source": [
    "\n",
    "def RomanToInt(roman)-> str:\n",
    "    if(len(roman)==0):\n",
    "        return \"Pass Valid String\"\n",
    "    \n",
    "    roman_dic = {'I':1,'V':5,'X':10,'L':50,'C':100,'D':500,\n",
    "                 'M':1000,'IV':4,'IX':9,'XL':40,'XC':90,\n",
    "                 'CD':400,'CM':900}\n",
    "    num, i =0, 0\n",
    "    try:\n",
    "        while i < len(roman):\n",
    "\n",
    "            if i+1 < len(roman) and roman[i:i+2] in roman_dic :\n",
    "                num += roman_dic[roman[i:i+2]]\n",
    "                i+=2\n",
    "            else:\n",
    "                num += roman_dic[roman[i]]\n",
    "                i +=1\n",
    "    except:\n",
    "        return \"invalid input\"\n",
    "    \n",
    "    return num\n",
    "    \n",
    "\n",
    "print(RomanToInt(\"LXXV\"))\n",
    " "
   ]
  },
  {
   "cell_type": "code",
   "execution_count": 50,
   "metadata": {},
   "outputs": [
    {
     "name": "stdout",
     "output_type": "stream",
     "text": [
      "i =  0 abs nums[i] =  0\n",
      "\n",
      "\n",
      "\n",
      "numbs[index] -1  - abs(numbs[index]) -1\n",
      "\n",
      "\n",
      "\n",
      "i =  1 abs nums[i] =  1\n",
      "\n",
      "\n",
      "\n",
      "numbs[index] -2  - abs(numbs[index]) -2\n",
      "\n",
      "\n",
      "\n",
      "i =  2 abs nums[i] =  4\n",
      "\n",
      "\n",
      "\n",
      "numbs[index] -1  - abs(numbs[index]) -1\n",
      "\n",
      "\n",
      "\n",
      "i =  3 abs nums[i] =  5\n",
      "\n",
      "\n",
      "\n",
      "numbs[index] -2  - abs(numbs[index]) -2\n",
      "\n",
      "\n",
      "\n",
      "i =  4 abs nums[i] =  0\n",
      "\n",
      "\n",
      "\n",
      "numbs[index] -1  - abs(numbs[index]) -1\n",
      "\n",
      "\n",
      "\n",
      "i =  5 abs nums[i] =  1\n",
      "\n",
      "\n",
      "\n",
      "numbs[index] -2  - abs(numbs[index]) -2\n",
      "\n",
      "\n",
      "\n",
      "[-1, -2, 5, 6, -1, -2]\n",
      "[3, 4]\n"
     ]
    }
   ],
   "source": [
    "def dn(nums):\n",
    "        \"\"\"\n",
    "        :type nums: List[int]\n",
    "        :rtype: List[int]\n",
    "        \"\"\"\n",
    "        # https://leetcode.com/problems/find-all-numbers-disappeared-in-an-array/discuss/92956/Java-accepted-simple-solution\n",
    "        for i in range(len(nums)):\n",
    "            index = abs(nums[i]) - 1\n",
    "            print(\"i = \",i,\"abs nums[i] = \", abs(nums[i]) -1)\n",
    "            print(\"\\n\\n\")\n",
    "            nums[index] = - abs(nums[index])\n",
    "            print( \"numbs[index]\", nums[index],\" - abs(numbs[index])\", nums[index])\n",
    "            print(\"\\n\\n\")\n",
    "        print(nums)\n",
    "        return [i + 1 for i in range(len(nums)) if nums[i] > 0]\n",
    "\n",
    "print(dn([1,2,5,6,1,2]))"
   ]
  }
 ],
 "metadata": {
  "kernelspec": {
   "display_name": "Python 3",
   "language": "python",
   "name": "python3"
  },
  "language_info": {
   "codemirror_mode": {
    "name": "ipython",
    "version": 3
   },
   "file_extension": ".py",
   "mimetype": "text/x-python",
   "name": "python",
   "nbconvert_exporter": "python",
   "pygments_lexer": "ipython3",
   "version": "3.8.5"
  }
 },
 "nbformat": 4,
 "nbformat_minor": 4
}
