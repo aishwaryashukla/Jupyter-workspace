{
 "cells": [
  {
   "cell_type": "code",
   "execution_count": 2,
   "metadata": {},
   "outputs": [],
   "source": [
    "# !pip install mftool\n",
    "import pandas as pd\n",
    "from mftool import Mftool\n",
    "mf = Mftool()\n",
    "# scheme_codes = mf.get_scheme_codes()\n"
   ]
  },
  {
   "cell_type": "code",
   "execution_count": null,
   "metadata": {},
   "outputs": [],
   "source": [
    "\n"
   ]
  },
  {
   "cell_type": "code",
   "execution_count": 38,
   "metadata": {},
   "outputs": [
    {
     "name": "stdout",
     "output_type": "stream",
     "text": [
      "None\n"
     ]
    }
   ],
   "source": [
    "# nav_data = mf.get_scheme_historical_nav_for_dates('113177', '25-12-2022', '31-12-2022')\n",
    "print(mf.get_scheme_historical_nav(\"100122\",as_json=True))\n"
   ]
  },
  {
   "cell_type": "code",
   "execution_count": 32,
   "metadata": {},
   "outputs": [
    {
     "name": "stdout",
     "output_type": "stream",
     "text": [
      "<pandas.core.groupby.generic.DataFrameGroupBy object at 0x7fa2925b69d0>\n",
      "101738\n"
     ]
    },
    {
     "name": "stderr",
     "output_type": "stream",
     "text": [
      "<ipython-input-32-c5c392af6597>:6: DeprecationWarning: Call to deprecated method get_scheme_historical_nav_for_dates. (This function will be in deprecated from next release, use mf.history() to get data) -- Deprecated since version 2.5.\n",
      "  print(mf.get_scheme_historical_nav_for_dates(str(i)[:-2], '25-12-2022', '31-12-2022'))\n"
     ]
    },
    {
     "name": "stdout",
     "output_type": "stream",
     "text": [
      "{'fund_house': 'Aditya Birla Sun Life Mutual Fund', 'scheme_type': 'Open Ended Schemes', 'scheme_category': 'Equity Scheme - Dividend Yield Fund', 'scheme_code': 101738, 'scheme_name': 'Aditya Birla Sun Life Dividend Yield Fund - Growth - Regular Plan', 'scheme_start_date': {'date': '03-04-2006', 'nav': '43.44000'}, 'data': [{'date': '30-12-2022', 'nav': '271.61000'}, {'date': '29-12-2022', 'nav': '270.58000'}, {'date': '28-12-2022', 'nav': '269.99000'}, {'date': '27-12-2022', 'nav': '269.01000'}, {'date': '26-12-2022', 'nav': '266.60000'}]}\n",
      "103309\n",
      "{'fund_house': 'Aditya Birla Sun Life Mutual Fund', 'scheme_type': '360 ONE Mutual Fund', 'scheme_category': 'Formerly Known as IIFL Mutual Fund', 'scheme_code': 103309, 'scheme_name': 'Aditya Birla Sun Life Focused Equity Fund -Growth Option', 'scheme_start_date': {'date': '03-04-2006', 'nav': '14.63170'}, 'data': [{'date': '30-12-2022', 'nav': '92.76610'}, {'date': '29-12-2022', 'nav': '93.26970'}, {'date': '28-12-2022', 'nav': '92.89100'}, {'date': '27-12-2022', 'nav': '93.07950'}, {'date': '26-12-2022', 'nav': '92.51350'}]}\n",
      "103174\n",
      "{'fund_house': 'Aditya Birla Sun Life Mutual Fund', 'scheme_type': 'Open Ended Schemes', 'scheme_category': 'Equity Scheme - Large Cap Fund', 'scheme_code': 103174, 'scheme_name': 'Aditya Birla Sun Life Frontline Equity Fund-Growth', 'scheme_start_date': {'date': '03-04-2006', 'nav': '41.31000'}, 'data': [{'date': '30-12-2022', 'nav': '352.09000'}, {'date': '29-12-2022', 'nav': '353.81000'}, {'date': '28-12-2022', 'nav': '352.40000'}, {'date': '27-12-2022', 'nav': '352.65000'}, {'date': '26-12-2022', 'nav': '350.70000'}]}\n",
      "105804\n",
      "{'fund_house': 'Aditya Birla Sun Life Mutual Fund', 'scheme_type': 'Open Ended Schemes', 'scheme_category': 'Equity Scheme - Small Cap Fund', 'scheme_code': 105804, 'scheme_name': 'Aditya Birla Sun Life Small Cap Fund - GROWTH', 'scheme_start_date': {'date': '31-05-2007', 'nav': '10.12000'}, 'data': [{'date': '30-12-2022', 'nav': '51.98400'}, {'date': '29-12-2022', 'nav': '51.73060'}, {'date': '28-12-2022', 'nav': '51.76290'}, {'date': '27-12-2022', 'nav': '51.62630'}, {'date': '26-12-2022', 'nav': '50.88550'}]}\n",
      "112277\n",
      "{'fund_house': 'Axis Mutual Fund', 'scheme_type': 'Open Ended Schemes', 'scheme_category': 'Equity Scheme - Large Cap Fund', 'scheme_code': 112277, 'scheme_name': 'Axis Bluechip Fund - Regular Plan - Growth', 'scheme_start_date': {'date': '07-01-2010', 'nav': '10.08000'}, 'data': [{'date': '30-12-2022', 'nav': '43.67000'}, {'date': '29-12-2022', 'nav': '43.91000'}, {'date': '28-12-2022', 'nav': '43.67000'}, {'date': '27-12-2022', 'nav': '43.72000'}, {'date': '26-12-2022', 'nav': '43.48000'}]}\n",
      "112278\n",
      "{'fund_house': 'Axis Mutual Fund', 'scheme_type': 'Open Ended Schemes', 'scheme_category': 'Equity Scheme - Large Cap Fund', 'scheme_code': 112278, 'scheme_name': 'Axis Bluechip Fund - Regular Plan - IDCW', 'scheme_start_date': {'date': '07-01-2010', 'nav': '10.08000'}, 'data': [{'date': '30-12-2022', 'nav': '17.60000'}, {'date': '29-12-2022', 'nav': '17.70000'}, {'date': '28-12-2022', 'nav': '17.60000'}, {'date': '27-12-2022', 'nav': '17.62000'}, {'date': '26-12-2022', 'nav': '17.53000'}]}\n",
      "112323\n",
      "{'fund_house': 'Axis Mutual Fund', 'scheme_type': '360 ONE Mutual Fund', 'scheme_category': 'Formerly Known as IIFL Mutual Fund', 'scheme_code': 112323, 'scheme_name': 'Axis Long Term Equity Fund - Regular Plan - Growth', 'scheme_start_date': {'date': '31-12-2009', 'nav': '10.00350'}, 'data': [{'date': '30-12-2022', 'nav': '65.08190'}, {'date': '29-12-2022', 'nav': '65.27540'}, {'date': '28-12-2022', 'nav': '65.19840'}, {'date': '27-12-2022', 'nav': '65.22760'}, {'date': '26-12-2022', 'nav': '64.81100'}]}\n",
      "114564\n",
      "{'fund_house': 'Axis Mutual Fund', 'scheme_type': 'Open Ended Schemes', 'scheme_category': 'Equity Scheme - Mid Cap Fund', 'scheme_code': 114564, 'scheme_name': 'Axis Midcap Fund - Regular Plan - Growth', 'scheme_start_date': {'date': '24-02-2011', 'nav': '9.99000'}, 'data': [{'date': '30-12-2022', 'nav': '66.47000'}, {'date': '29-12-2022', 'nav': '66.41000'}, {'date': '28-12-2022', 'nav': '66.49000'}, {'date': '27-12-2022', 'nav': '66.47000'}, {'date': '26-12-2022', 'nav': '66.06000'}]}\n",
      "144636\n",
      "None\n",
      "108202\n",
      "{'fund_house': 'DSP Mutual Fund', 'scheme_type': '360 ONE Mutual Fund', 'scheme_category': 'Formerly Known as IIFL Mutual Fund', 'scheme_code': 108202, 'scheme_name': 'DSP Natural Resources And New Energy Fund - Regular - Growth', 'scheme_start_date': {'date': '29-04-2008', 'nav': '10.38700'}, 'data': [{'date': '30-12-2022', 'nav': '57.17900'}, {'date': '29-12-2022', 'nav': '56.98000'}, {'date': '28-12-2022', 'nav': '56.65900'}, {'date': '27-12-2022', 'nav': '56.74200'}]}\n",
      "112092\n",
      "{'fund_house': 'Franklin Templeton Mutual Fund', 'scheme_type': '360 ONE Mutual Fund', 'scheme_category': 'Formerly Known as IIFL Mutual Fund', 'scheme_code': 112092, 'scheme_name': 'Franklin Build India Fund Growth Plan', 'scheme_start_date': {'date': '07-09-2009', 'nav': '10.18290'}, 'data': [{'date': '30-12-2022', 'nav': '71.57240'}, {'date': '29-12-2022', 'nav': '71.50120'}, {'date': '28-12-2022', 'nav': '71.39220'}, {'date': '27-12-2022', 'nav': '71.58330'}, {'date': '26-12-2022', 'nav': '70.88960'}]}\n",
      "100122\n",
      "None\n",
      "102760\n",
      "{'fund_house': 'HDFC Mutual Fund', 'scheme_type': '360 ONE Mutual Fund', 'scheme_category': 'Formerly Known as IIFL Mutual Fund', 'scheme_code': 102760, 'scheme_name': 'HDFC Focused 30 Fund - GROWTH PLAN', 'scheme_start_date': {'date': '03-04-2006', 'nav': '24.32300'}, 'data': [{'date': '30-12-2022', 'nav': '133.97300'}, {'date': '29-12-2022', 'nav': '134.39700'}, {'date': '28-12-2022', 'nav': '133.66800'}, {'date': '27-12-2022', 'nav': '133.70100'}, {'date': '26-12-2022', 'nav': '133.36100'}]}\n",
      "102948\n",
      "{'fund_house': 'HDFC Mutual Fund', 'scheme_type': 'Open Ended Schemes', 'scheme_category': 'Hybrid Scheme - Aggressive Hybrid Fund', 'scheme_code': 102948, 'scheme_name': 'HDFC Hybrid Equity Fund - Growth Plan', 'scheme_start_date': {'date': '03-04-2006', 'nav': '17.23400'}, 'data': [{'date': '30-12-2022', 'nav': '85.73900'}, {'date': '29-12-2022', 'nav': '86.10700'}, {'date': '28-12-2022', 'nav': '85.63600'}, {'date': '27-12-2022', 'nav': '85.64000'}, {'date': '26-12-2022', 'nav': '85.22600'}]}\n",
      "130502\n",
      "{'fund_house': 'HDFC Mutual Fund', 'scheme_type': 'Open Ended Schemes', 'scheme_category': 'Equity Scheme - Small Cap Fund', 'scheme_code': 130502, 'scheme_name': 'HDFC Small Cap Fund - Growth Option', 'scheme_start_date': {'date': '30-06-2014', 'nav': '21.12100'}, 'data': [{'date': '30-12-2022', 'nav': '79.78200'}, {'date': '29-12-2022', 'nav': '79.21900'}, {'date': '28-12-2022', 'nav': '78.78600'}, {'date': '27-12-2022', 'nav': '78.74100'}, {'date': '26-12-2022', 'nav': '77.44600'}]}\n",
      "102000\n",
      "{'fund_house': 'HDFC Mutual Fund', 'scheme_type': 'Open Ended Schemes', 'scheme_category': 'Equity Scheme - Large Cap Fund', 'scheme_code': 102000, 'scheme_name': 'HDFC Top 100 Fund - Growth Option - Regular Plan', 'scheme_start_date': {'date': '03-04-2006', 'nav': '98.48600'}, 'data': [{'date': '30-12-2022', 'nav': '753.20100'}, {'date': '29-12-2022', 'nav': '756.31000'}, {'date': '28-12-2022', 'nav': '753.09800'}, {'date': '27-12-2022', 'nav': '753.69000'}, {'date': '26-12-2022', 'nav': '750.20100'}]}\n",
      "102001\n",
      "{'fund_house': 'HDFC Mutual Fund', 'scheme_type': 'Open Ended Schemes', 'scheme_category': 'Equity Scheme - Large Cap Fund', 'scheme_code': 102001, 'scheme_name': 'HDFC Top 100 Fund - IDCW Option - Regular Plan', 'scheme_start_date': {'date': '03-04-2006', 'nav': '36.83100'}, 'data': [{'date': '30-12-2022', 'nav': '51.24800'}, {'date': '29-12-2022', 'nav': '51.46000'}, {'date': '28-12-2022', 'nav': '51.24100'}, {'date': '27-12-2022', 'nav': '51.28200'}, {'date': '26-12-2022', 'nav': '51.04400'}]}\n",
      "n\n",
      "None\n",
      "108466\n",
      "{'fund_house': 'ICICI Prudential Mutual Fund', 'scheme_type': 'Open Ended Schemes', 'scheme_category': 'Equity Scheme - Large Cap Fund', 'scheme_code': 108466, 'scheme_name': 'ICICI Prudential Bluechip Fund - Growth', 'scheme_start_date': {'date': '26-05-2008', 'nav': '10.02000'}, 'data': [{'date': '30-12-2022', 'nav': '69.69000'}, {'date': '29-12-2022', 'nav': '70.04000'}, {'date': '28-12-2022', 'nav': '69.71000'}, {'date': '27-12-2022', 'nav': '69.80000'}, {'date': '26-12-2022', 'nav': '69.33000'}]}\n",
      "112090\n",
      "{'fund_house': 'Kotak Mahindra Mutual Fund', 'scheme_type': '360 ONE Mutual Fund', 'scheme_category': 'Formerly Known as IIFL Mutual Fund', 'scheme_code': 112090, 'scheme_name': 'Kotak Flexicap Fund - Growth', 'scheme_start_date': {'date': '17-09-2009', 'nav': '10.15700'}, 'data': [{'date': '30-12-2022', 'nav': '55.00100'}, {'date': '29-12-2022', 'nav': '55.12900'}, {'date': '28-12-2022', 'nav': '54.96100'}, {'date': '27-12-2022', 'nav': '55.07800'}, {'date': '26-12-2022', 'nav': '54.51700'}]}\n",
      "120164\n",
      "{'fund_house': 'Kotak Mahindra Mutual Fund', 'scheme_type': 'Open Ended Schemes', 'scheme_category': 'Equity Scheme - Small Cap Fund', 'scheme_code': 120164, 'scheme_name': 'Kotak-Small Cap Fund - Growth - Direct', 'scheme_start_date': {'date': '02-01-2013', 'nav': '30.51700'}, 'data': [{'date': '30-12-2022', 'nav': '184.82900'}, {'date': '29-12-2022', 'nav': '183.72000'}, {'date': '28-12-2022', 'nav': '183.97700'}, {'date': '27-12-2022', 'nav': '183.68900'}, {'date': '26-12-2022', 'nav': '182.69500'}]}\n",
      "103338\n",
      "{'fund_house': 'Kotak Mahindra Mutual Fund', 'scheme_type': '360 ONE Mutual Fund', 'scheme_category': 'Formerly Known as IIFL Mutual Fund', 'scheme_code': 103338, 'scheme_name': 'Kotak Tax Saver-Scheme-Payout of Income Distribution cum capital withdrawal option', 'scheme_start_date': {'date': '03-04-2006', 'nav': '13.25600'}, 'data': [{'date': '30-12-2022', 'nav': '28.66700'}, {'date': '29-12-2022', 'nav': '28.68700'}, {'date': '28-12-2022', 'nav': '28.57800'}, {'date': '27-12-2022', 'nav': '28.57800'}, {'date': '26-12-2022', 'nav': '28.34400'}]}\n",
      "107578\n",
      "{'fund_house': 'Mirae Asset Mutual Fund', 'scheme_type': 'Open Ended Schemes', 'scheme_category': 'Equity Scheme - Large Cap Fund', 'scheme_code': 107578, 'scheme_name': 'Mirae Asset Large Cap Fund - Growth Plan', 'scheme_start_date': {'date': '09-04-2008', 'nav': '9.98000'}, 'data': [{'date': '30-12-2022', 'nav': '80.08700'}, {'date': '29-12-2022', 'nav': '80.46300'}, {'date': '28-12-2022', 'nav': '80.03700'}, {'date': '27-12-2022', 'nav': '80.07000'}, {'date': '26-12-2022', 'nav': '79.62600'}]}\n",
      "101862\n",
      "{'fund_house': 'Nippon India Mutual Fund', 'scheme_type': '360 ONE Mutual Fund', 'scheme_category': 'Formerly Known as IIFL Mutual Fund', 'scheme_code': 101862, 'scheme_name': 'Nippon India Banking & Financial Services Fund-Growth Plan-Growth Option', 'scheme_start_date': {'date': '03-04-2006', 'nav': '32.00000'}, 'data': [{'date': '30-12-2022', 'nav': '410.61040'}, {'date': '29-12-2022', 'nav': '411.67090'}, {'date': '28-12-2022', 'nav': '408.56900'}, {'date': '27-12-2022', 'nav': '408.37370'}, {'date': '26-12-2022', 'nav': '405.12910'}]}\n",
      "101262\n",
      "{'fund_house': 'Nippon India Mutual Fund', 'scheme_type': '360 ONE Mutual Fund', 'scheme_category': 'Formerly Known as IIFL Mutual Fund', 'scheme_code': 101262, 'scheme_name': 'Nippon India Power & Infra Fund-Growth Plan -Growth Option', 'scheme_start_date': {'date': '03-04-2006', 'nav': '30.80520'}, 'data': [{'date': '30-12-2022', 'nav': '173.24860'}, {'date': '29-12-2022', 'nav': '173.03170'}, {'date': '28-12-2022', 'nav': '172.95720'}, {'date': '27-12-2022', 'nav': '172.19810'}, {'date': '26-12-2022', 'nav': '170.70490'}]}\n",
      "107636\n",
      "None\n",
      "100380\n",
      "{'fund_house': 'Nippon India Mutual Fund', 'scheme_type': 'Open Ended Schemes', 'scheme_category': 'Equity Scheme - Large & Mid Cap Fund', 'scheme_code': 100380, 'scheme_name': 'Nippon India Vision Fund-GROWTH PLAN-Growth Option', 'scheme_start_date': {'date': '03-04-2006', 'nav': '160.34000'}, 'data': [{'date': '30-12-2022', 'nav': '843.90380'}, {'date': '29-12-2022', 'nav': '847.37780'}, {'date': '28-12-2022', 'nav': '845.27480'}, {'date': '27-12-2022', 'nav': '843.52790'}, {'date': '26-12-2022', 'nav': '837.34460'}]}\n",
      "104637\n",
      "{'fund_house': 'Nippon India Mutual Fund', 'scheme_type': '360 ONE Mutual Fund', 'scheme_category': 'Formerly Known as IIFL Mutual Fund', 'scheme_code': 104637, 'scheme_name': 'Nippon India Focused Equity Fund -Growth Plan -Growth Option', 'scheme_start_date': {'date': '27-12-2006', 'nav': '10.15460'}, 'data': [{'date': '30-12-2022', 'nav': '81.32920'}, {'date': '29-12-2022', 'nav': '81.43080'}, {'date': '28-12-2022', 'nav': '81.35690'}, {'date': '27-12-2022', 'nav': '81.42830'}, {'date': '26-12-2022', 'nav': '80.83660'}]}\n",
      "106235\n",
      "{'fund_house': 'Nippon India Mutual Fund', 'scheme_type': 'Open Ended Schemes', 'scheme_category': 'Equity Scheme - Large Cap Fund', 'scheme_code': 106235, 'scheme_name': 'Nippon India Large Cap  Fund- Growth Plan -Growth Option', 'scheme_start_date': {'date': '09-08-2007', 'nav': '9.76250'}, 'data': [{'date': '30-12-2022', 'nav': '55.15860'}, {'date': '29-12-2022', 'nav': '55.28420'}, {'date': '28-12-2022', 'nav': '55.19280'}, {'date': '27-12-2022', 'nav': '55.11900'}, {'date': '26-12-2022', 'nav': '54.73560'}]}\n",
      "102431\n",
      "{'fund_house': 'Nippon India Mutual Fund', 'scheme_type': '360 ONE Mutual Fund', 'scheme_category': 'Formerly Known as IIFL Mutual Fund', 'scheme_code': 102431, 'scheme_name': 'Nippon India Pharma Fund-Growth Plan-Growth Option', 'scheme_start_date': {'date': '03-04-2006', 'nav': '20.64560'}, 'data': [{'date': '30-12-2022', 'nav': '282.60070'}, {'date': '29-12-2022', 'nav': '283.30820'}, {'date': '28-12-2022', 'nav': '282.83000'}, {'date': '27-12-2022', 'nav': '283.79720'}, {'date': '26-12-2022', 'nav': '283.54480'}]}\n",
      "113177\n",
      "{'fund_house': 'Nippon India Mutual Fund', 'scheme_type': 'Open Ended Schemes', 'scheme_category': 'Equity Scheme - Small Cap Fund', 'scheme_code': 113177, 'scheme_name': 'Nippon India Small Cap Fund - Growth Plan - Growth Option', 'scheme_start_date': {'date': '21-09-2010', 'nav': '9.99210'}, 'data': [{'date': '30-12-2022', 'nav': '93.00640'}, {'date': '29-12-2022', 'nav': '92.42590'}, {'date': '28-12-2022', 'nav': '92.27640'}, {'date': '27-12-2022', 'nav': '92.00960'}, {'date': '26-12-2022', 'nav': '90.79530'}]}\n",
      "103196\n",
      "{'fund_house': 'Nippon India Mutual Fund', 'scheme_type': '360 ONE Mutual Fund', 'scheme_category': 'Formerly Known as IIFL Mutual Fund', 'scheme_code': 103196, 'scheme_name': 'Nippon India Tax Saver (ELSS) Fund-Growth Plan-Growth Option', 'scheme_start_date': {'date': '03-04-2006', 'nav': '13.62000'}, 'data': [{'date': '30-12-2022', 'nav': '81.40180'}, {'date': '29-12-2022', 'nav': '81.62190'}, {'date': '28-12-2022', 'nav': '81.33030'}, {'date': '27-12-2022', 'nav': '81.42490'}, {'date': '26-12-2022', 'nav': '80.70700'}]}\n",
      "118741\n",
      "{'fund_house': 'Nippon India Mutual Fund', 'scheme_type': 'Open Ended Schemes', 'scheme_category': 'Other Scheme - Index Funds', 'scheme_code': 118741, 'scheme_name': 'Nippon India Index Fund - Nifty 50 Plan - Direct Plan Growth Plan - Growth Option', 'scheme_start_date': {'date': '02-01-2013', 'nav': '9.91690'}, 'data': [{'date': '30-12-2022', 'nav': '32.24460'}, {'date': '29-12-2022', 'nav': '32.39730'}, {'date': '28-12-2022', 'nav': '32.27610'}, {'date': '27-12-2022', 'nav': '32.29370'}, {'date': '26-12-2022', 'nav': '32.08450'}]}\n",
      "148726\n",
      "{'fund_house': 'Nippon India Mutual Fund', 'scheme_type': 'Open Ended Schemes', 'scheme_category': 'Other Scheme - Index Funds', 'scheme_code': 148726, 'scheme_name': 'Nippon India Nifty Midcap 150 Index Fund - Direct Plan - Growth Option', 'scheme_start_date': {'date': '23-02-2021', 'nav': '9.97530'}, 'data': [{'date': '30-12-2022', 'nav': '13.66180'}, {'date': '29-12-2022', 'nav': '13.59670'}, {'date': '28-12-2022', 'nav': '13.57790'}, {'date': '27-12-2022', 'nav': '13.53380'}, {'date': '26-12-2022', 'nav': '13.40910'}]}\n",
      "146513\n",
      "{'fund_house': 'Nippon India Mutual Fund', 'scheme_type': 'Open Ended Schemes', 'scheme_category': 'Other Scheme - FoF Domestic', 'scheme_code': 146513, 'scheme_name': 'Nippon India Nifty Next 50 Junior BeES FoF - Direct Plan - Growth Plan - Growth Option', 'scheme_start_date': {'date': '11-03-2019', 'nav': '10.23330'}, 'data': [{'date': '30-12-2022', 'nav': '15.68950'}, {'date': '29-12-2022', 'nav': '15.69370'}, {'date': '28-12-2022', 'nav': '15.68350'}, {'date': '27-12-2022', 'nav': '15.61180'}, {'date': '26-12-2022', 'nav': '15.48640'}]}\n",
      "148519\n",
      "{'fund_house': 'Nippon India Mutual Fund', 'scheme_type': 'Open Ended Schemes', 'scheme_category': 'Other Scheme - Index Funds', 'scheme_code': 148519, 'scheme_name': 'Nippon India Nifty Smallcap 250 Index Fund - Direct Plan - Growth Option', 'scheme_start_date': {'date': '19-10-2020', 'nav': '10.03880'}, 'data': [{'date': '30-12-2022', 'nav': '18.89630'}, {'date': '29-12-2022', 'nav': '18.75140'}, {'date': '28-12-2022', 'nav': '18.72870'}, {'date': '27-12-2022', 'nav': '18.68910'}, {'date': '26-12-2022', 'nav': '18.46240'}]}\n",
      "118796\n",
      "{'fund_house': 'Nippon India Mutual Fund', 'scheme_type': 'Open Ended Schemes', 'scheme_category': 'Debt Scheme - Short Duration Fund', 'scheme_code': 118796, 'scheme_name': 'Nippon India Short Term Fund - Direct Plan Growth Plan - Growth Option', 'scheme_start_date': {'date': '02-01-2013', 'nav': '21.42980'}, 'data': [{'date': '30-12-2022', 'nav': '46.79400'}, {'date': '29-12-2022', 'nav': '46.77970'}, {'date': '28-12-2022', 'nav': '46.76950'}, {'date': '27-12-2022', 'nav': '46.77270'}, {'date': '26-12-2022', 'nav': '46.75610'}]}\n",
      "120823\n",
      "{'fund_house': 'quant Mutual Fund', 'scheme_type': 'Open Ended Schemes', 'scheme_category': 'Equity Scheme - Multi Cap Fund', 'scheme_code': 120823, 'scheme_name': 'quant Active Fund-GROWTH OPTION-Direct Plan', 'scheme_start_date': {'date': '07-01-2013', 'nav': '73.89770'}, 'data': [{'date': '30-12-2022', 'nav': '485.79460'}, {'date': '29-12-2022', 'nav': '483.70680'}, {'date': '28-12-2022', 'nav': '481.05680'}, {'date': '27-12-2022', 'nav': '480.00630'}, {'date': '26-12-2022', 'nav': '473.57070'}]}\n",
      "120843\n",
      "{'fund_house': 'quant Mutual Fund', 'scheme_type': '360 ONE Mutual Fund', 'scheme_category': 'Formerly Known as IIFL Mutual Fund', 'scheme_code': 120843, 'scheme_name': 'quant Flexi Cap Fund - Growth Option-Direct Plan', 'scheme_start_date': {'date': '07-01-2013', 'nav': '11.91660'}, 'data': [{'date': '30-12-2022', 'nav': '69.00270'}, {'date': '29-12-2022', 'nav': '68.78690'}, {'date': '28-12-2022', 'nav': '68.31060'}, {'date': '27-12-2022', 'nav': '68.30310'}, {'date': '26-12-2022', 'nav': '67.51170'}]}\n",
      "133858\n",
      "{'fund_house': 'SBI Mutual Fund', 'scheme_type': '360 ONE Mutual Fund', 'scheme_category': 'Formerly Known as IIFL Mutual Fund', 'scheme_code': 133858, 'scheme_name': 'SBI BANKING & FINANCIAL SERVICES FUND - REGULAR PLAN - GROWTH', 'scheme_start_date': {'date': '05-03-2015', 'nav': '10.23690'}, 'data': [{'date': '30-12-2022', 'nav': '26.83260'}, {'date': '29-12-2022', 'nav': '26.93530'}, {'date': '28-12-2022', 'nav': '26.71030'}, {'date': '27-12-2022', 'nav': '26.73300'}, {'date': '26-12-2022', 'nav': '26.58230'}]}\n",
      "103504\n",
      "{'fund_house': 'SBI Mutual Fund', 'scheme_type': 'Open Ended Schemes', 'scheme_category': 'Equity Scheme - Large Cap Fund', 'scheme_code': 103504, 'scheme_name': 'SBI BLUE CHIP FUND-REGULAR PLAN GROWTH', 'scheme_start_date': {'date': '03-04-2006', 'nav': '10.94000'}, 'data': [{'date': '30-12-2022', 'nav': '63.63560'}, {'date': '29-12-2022', 'nav': '63.98270'}, {'date': '28-12-2022', 'nav': '63.82460'}, {'date': '27-12-2022', 'nav': '63.83510'}, {'date': '26-12-2022', 'nav': '63.41800'}]}\n",
      "102414\n",
      "{'fund_house': 'SBI Mutual Fund', 'scheme_type': 'Open Ended Schemes', 'scheme_category': 'Equity Scheme - Contra Fund', 'scheme_code': 102414, 'scheme_name': 'SBI CONTRA FUND - REGULAR PLAN -GROWTH', 'scheme_start_date': {'date': '03-04-2006', 'nav': '32.82000'}, 'data': [{'date': '30-12-2022', 'nav': '228.90740'}, {'date': '29-12-2022', 'nav': '228.47000'}, {'date': '28-12-2022', 'nav': '228.00440'}, {'date': '27-12-2022', 'nav': '227.87970'}, {'date': '26-12-2022', 'nav': '226.23750'}]}\n",
      "102756\n",
      "{'fund_house': 'SBI Mutual Fund', 'scheme_type': '360 ONE Mutual Fund', 'scheme_category': 'Formerly Known as IIFL Mutual Fund', 'scheme_code': 102756, 'scheme_name': 'SBI FOCUSED EQUITY FUND - REGULAR PLAN -GROWTH', 'scheme_start_date': {'date': '03-04-2006', 'nav': '28.28000'}, 'data': [{'date': '30-12-2022', 'nav': '230.00480'}, {'date': '29-12-2022', 'nav': '229.67910'}, {'date': '28-12-2022', 'nav': '229.16900'}, {'date': '27-12-2022', 'nav': '229.16720'}, {'date': '26-12-2022', 'nav': '228.40330'}]}\n",
      "100474\n",
      "{'fund_house': 'Tata Mutual Fund', 'scheme_type': '360 ONE Mutual Fund', 'scheme_category': 'Formerly Known as IIFL Mutual Fund', 'scheme_code': 100474, 'scheme_name': 'Tata India Tax Savings Fund- Regular Plan - Payout of IDCW Option', 'scheme_start_date': {'date': '03-04-2006', 'nav': '42.15180'}, 'data': [{'date': '30-12-2022', 'nav': '75.33040'}, {'date': '29-12-2022', 'nav': '75.37090'}, {'date': '28-12-2022', 'nav': '75.11860'}, {'date': '27-12-2022', 'nav': '75.29470'}, {'date': '26-12-2022', 'nav': '74.78560'}]}\n",
      "100669\n",
      "{'fund_house': 'UTI Mutual Fund', 'scheme_type': '360 ONE Mutual Fund', 'scheme_category': 'Formerly Known as IIFL Mutual Fund', 'scheme_code': 100669, 'scheme_name': 'UTI - Flexi Cap Fund-Growth Option', 'scheme_start_date': {'date': '03-04-2006', 'nav': '32.89000'}, 'data': [{'date': '30-12-2022', 'nav': '232.00200'}, {'date': '29-12-2022', 'nav': '233.22040'}, {'date': '28-12-2022', 'nav': '232.59690'}, {'date': '27-12-2022', 'nav': '232.59560'}, {'date': '26-12-2022', 'nav': '231.07840'}]}\n",
      "100822\n",
      "{'fund_house': 'UTI Mutual Fund', 'scheme_type': 'Open Ended Schemes', 'scheme_category': 'Other Scheme - Index Funds', 'scheme_code': 100822, 'scheme_name': 'UTI Nifty 50 Index Fund - Regular Plan - Growth Option', 'scheme_start_date': {'date': '03-04-2006', 'nav': '22.05570'}, 'data': [{'date': '30-12-2022', 'nav': '121.67090'}, {'date': '29-12-2022', 'nav': '122.24830'}, {'date': '28-12-2022', 'nav': '121.79010'}, {'date': '27-12-2022', 'nav': '121.85700'}, {'date': '26-12-2022', 'nav': '121.06700'}]}\n",
      "143340\n",
      "{'fund_house': 'UTI Mutual Fund', 'scheme_type': 'Open Ended Schemes', 'scheme_category': 'Other Scheme - Index Funds', 'scheme_code': 143340, 'scheme_name': 'UTI Nifty Next 50 Index Fund - Regular Plan - Growth Option', 'scheme_start_date': {'date': '29-06-2018', 'nav': '10.02870'}, 'data': [{'date': '30-12-2022', 'nav': '15.03890'}, {'date': '29-12-2022', 'nav': '15.06230'}, {'date': '28-12-2022', 'nav': '15.06610'}, {'date': '27-12-2022', 'nav': '15.02280'}, {'date': '26-12-2022', 'nav': '14.87100'}]}\n"
     ]
    }
   ],
   "source": [
    "df = pd.read_csv(\"mf.csv\")\n",
    "print(df[['amfi']].groupby(['amfi']))\n",
    "l = df['amfi'].unique()\n",
    "for i in l:\n",
    "    print(str(i)[:-2])\n",
    "    print(mf.get_scheme_historical_nav_for_dates(str(i)[:-2], '25-12-2022', '31-12-2022'))"
   ]
  }
 ],
 "metadata": {
  "kernelspec": {
   "display_name": "Python 3",
   "language": "python",
   "name": "python3"
  },
  "language_info": {
   "codemirror_mode": {
    "name": "ipython",
    "version": 3
   },
   "file_extension": ".py",
   "mimetype": "text/x-python",
   "name": "python",
   "nbconvert_exporter": "python",
   "pygments_lexer": "ipython3",
   "version": "3.8.5"
  }
 },
 "nbformat": 4,
 "nbformat_minor": 4
}
