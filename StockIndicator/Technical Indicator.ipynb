{
 "cells": [
  {
   "cell_type": "code",
   "execution_count": 5,
   "metadata": {},
   "outputs": [
    {
     "name": "stdout",
     "output_type": "stream",
     "text": [
      "Working on :  PNB.NS\n",
      "Working on :  ASIANPAINT.NS\n"
     ]
    }
   ],
   "source": [
    "#importing variables\n",
    "# !pip install pandas_datareader\n",
    "import pandas as pd\n",
    "import numpy as np\n",
    "import datetime as dt\n",
    "import pandas_datareader as pdr\n",
    "import seaborn as sns\n",
    "import matplotlib.pyplot as plt\n",
    "from SendEmail import *\n",
    "import ta \n",
    "# https://towardsdatascience.com/building-a-comprehensive-set-of-technical-indicators-in-python-for-quantitative-trading-8d98751b5fb\n",
    "\n",
    "#extracting data from Yahoo Finance API\n",
    "tickers = ['PNB.NS','ASIANPAINT.NS']\n",
    "# tickers = ['ASIANPAINT.NS', 'BEL.NS', 'BHARTIARTL.NS', 'DABUR.NS', 'GODREJCP.NS', 'HCLTECH.NS', 'HDFCBANK.NS', 'HINDUNILVR.NS', 'INDUSINDBK.NS', 'ITC.NS', 'JUBLFOOD.NS', 'KOTAKBANK.NS', 'LT.NS', 'MARUTI.NS', 'PIDILITIND.NS', 'PIIND.NS', 'RELIANCE.NS', 'TCS.NS', 'TECHM.NS', 'TITAN.NS', 'WIPRO.NS', 'ABB.NS', 'AXISBANK.NS', 'BAJAJFINSV.NS', 'BIOCON.NS', 'CONCOR.NS', 'HAVELLS.NS', 'HDFC.NS', 'INDHOTEL.NS', 'INFY.NS', 'KAJARIACER.NS', 'LALPATHLAB.NS', 'PCJEWELLER.NS', 'SBILIFE.NS', 'SBIN.NS', 'TATASTEEL.NS', 'TCIEXP.NS', 'TRENT.NS']\n",
    "\n",
    "# tickers=['HCLTECH.NS', 'HDFCBANK.NS', 'HINDUNILVR.NS']\n",
    "all_data = pd.DataFrame()\n",
    "test_data = pd.DataFrame()\n",
    "no_data = []\n",
    "\n",
    "for i in tickers:\n",
    "    try:\n",
    "        print(\"Working on : \",i)\n",
    "        test_data = pdr.get_data_yahoo(i, start = dt.datetime(2022,10,1), end = dt.date.today())\n",
    "        print(test_data)\n",
    "        test_data['symbol'] = i\n",
    "        all_data = all_data.append(test_data)\n",
    "    except:\n",
    "        no_data.append(i)\n",
    "\n",
    "#Creating Return column\n",
    "# all_data['return'] = all_data.groupby('symbol')['Close'].pct_change() "
   ]
  },
  {
   "cell_type": "code",
   "execution_count": 6,
   "metadata": {},
   "outputs": [
    {
     "data": {
      "text/html": [
       "<div>\n",
       "<style scoped>\n",
       "    .dataframe tbody tr th:only-of-type {\n",
       "        vertical-align: middle;\n",
       "    }\n",
       "\n",
       "    .dataframe tbody tr th {\n",
       "        vertical-align: top;\n",
       "    }\n",
       "\n",
       "    .dataframe thead th {\n",
       "        text-align: right;\n",
       "    }\n",
       "</style>\n",
       "<table border=\"1\" class=\"dataframe\">\n",
       "  <thead>\n",
       "    <tr style=\"text-align: right;\">\n",
       "      <th></th>\n",
       "    </tr>\n",
       "  </thead>\n",
       "  <tbody>\n",
       "  </tbody>\n",
       "</table>\n",
       "</div>"
      ],
      "text/plain": [
       "Empty DataFrame\n",
       "Columns: []\n",
       "Index: []"
      ]
     },
     "execution_count": 6,
     "metadata": {},
     "output_type": "execute_result"
    }
   ],
   "source": [
    "all_data"
   ]
  },
  {
   "cell_type": "code",
   "execution_count": null,
   "metadata": {},
   "outputs": [],
   "source": [
    "#Simple Moving Average\n",
    "all_data['SMA_5'] = all_data.groupby('symbol')['Close'].transform(lambda x: x.rolling(window = 5).mean())\n",
    "all_data['SMA_15'] = all_data.groupby('symbol')['Close'].transform(lambda x: x.rolling(window = 15).mean())\n",
    "all_data['SMA_ratio'] = all_data['SMA_5'] / all_data['SMA_15']\n",
    "# all_data[all_data['symbol']=='SBIN.NS']"
   ]
  },
  {
   "cell_type": "code",
   "execution_count": null,
   "metadata": {},
   "outputs": [],
   "source": [
    "date_index = all_data.sort_index().index.unique()\n",
    "second_last_day = date_index[len(date_index)-2]\n",
    "last_day = date_index[len(date_index)-1]"
   ]
  },
  {
   "cell_type": "code",
   "execution_count": null,
   "metadata": {},
   "outputs": [],
   "source": [
    "all_data.loc[second_last_day][all_data.loc[second_last_day]['symbol']=='0P0000NOLZ.BO']\n",
    "# last_day_sam_ratio = all_data.loc[last_day][all_data.loc[last_day]['symbol']==i].iloc[0]['SMA_ratio']"
   ]
  },
  {
   "cell_type": "markdown",
   "metadata": {},
   "source": [
    "last_day"
   ]
  },
  {
   "cell_type": "code",
   "execution_count": null,
   "metadata": {},
   "outputs": [],
   "source": [
    "#Plotting\n",
    "for i in tickers:\n",
    "    print(\"working for \"+i)\n",
    "    start = dt.datetime.strptime('2021-12-01', '%Y-%m-%d')\n",
    "#     end = dt.datetime.strptime('2021-10-09', '%Y-%m-%d')\n",
    "    end = dt.date.today()\n",
    "    sns.set()\n",
    "    \n",
    "    try:\n",
    "        second_last_day_sam_ratio = all_data.loc[second_last_day][all_data.loc[second_last_day]['symbol']==i].iloc[0]['SMA_ratio']\n",
    "        last_day_sam_ratio = all_data.loc[last_day][all_data.loc[last_day]['symbol']==i].iloc[0]['SMA_ratio']\n",
    "\n",
    "        print(\"Sma Product : {} {} {}\".format(second_last_day_sam_ratio ,last_day_sam_ratio, second_last_day_sam_ratio*last_day_sam_ratio))\n",
    "        if(second_last_day_sam_ratio <1 and last_day_sam_ratio > 1):\n",
    "            subject = \"BUY Opportunity in \"+ i\n",
    "            body = \" Buy opportunity spotted in stock \" + i\n",
    "    #         sendmail(subject, body, 'aishwarya.shukla@gmail.com')\n",
    "            print(\" BUY opportunity, stock is trending upwards. \")\n",
    "        if(second_last_day_sam_ratio >1 and last_day_sam_ratio < 1):\n",
    "            subject = \"SELL Opportunity in \"+ i\n",
    "            body = \" SELL opportunity spotted in stock \" + i\n",
    "    #         sendmail(subject, body, 'aishwarya.shukla@gmail.com')\n",
    "            print(\" SELL opportunity, stock is trending upwards. \")\n",
    "        \n",
    "    except:\n",
    "        print(\"issue with security {}\".format(i))\n",
    "    \n",
    "   \n",
    "    \n",
    "    fig = plt.figure(facecolor = 'white', figsize = (20,10))\n",
    "\n",
    "    ax0 = plt.subplot2grid((6,4), (1,0), rowspan=4, colspan=4)\n",
    "    ax0.plot(all_data[all_data.symbol==i].loc[start:end,['Close','SMA_5','SMA_15']])\n",
    "    ax0.set_facecolor('ghostwhite')\n",
    "    ax0.legend(['Close','SMA_5','SMA_15'],ncol=3, loc = 'upper left', fontsize = 15)\n",
    "    plt.title(i+\" Stock Price, Slow and Fast Moving Average\", fontsize = 20)\n",
    "\n",
    "    ax1 = plt.subplot2grid((6,4), (5,0), rowspan=1, colspan=4, sharex = ax0)\n",
    "    ax1.plot(all_data[all_data.symbol==i].loc[start:end,['SMA_ratio']], color = 'blue')\n",
    "    ax1.legend(['SMA_Ratio'],ncol=3, loc = 'upper left', fontsize = 12)\n",
    "    ax1.set_facecolor('silver')\n",
    "    plt.subplots_adjust(left=.09, bottom=.09, right=1, top=.95, wspace=.20, hspace=0)\n",
    "    plt.show()"
   ]
  },
  {
   "cell_type": "code",
   "execution_count": null,
   "metadata": {},
   "outputs": [],
   "source": [
    "    start = dt.datetime.strptime('2021-8-01', '%Y-%m-%d')\n",
    "    end = dt.datetime.strptime('2021-10-09', '%Y-%m-%d')\n",
    "    sns.set()\n",
    "\n",
    "    fig = plt.figure(facecolor = 'white', figsize = (20,10))\n",
    "\n",
    "    ax0 = plt.subplot2grid((6,4), (1,0), rowspan=4, colspan=4)\n",
    "    ax0.plot(all_data[all_data.symbol=='SBIN.NS'].loc[start:end,['Close','SMA_5','SMA_15']])\n",
    "    ax0.set_facecolor('ghostwhite')\n",
    "    ax0.legend(['Close','SMA_5','SMA_15'],ncol=3, loc = 'upper left', fontsize = 15)\n",
    "    plt.title(i+\" Stock Price, Slow and Fast Moving Average\", fontsize = 20)\n",
    "\n",
    "    ax1 = plt.subplot2grid((6,4), (5,0), rowspan=1, colspan=4, sharex = ax0)\n",
    "    ax1.plot(all_data[all_data.symbol=='SBIN.NS'].loc[start:end,['SMA_ratio']], color = 'blue')\n",
    "    ax1.legend(['SMA_Ratio'],ncol=3, loc = 'upper left', fontsize = 12)\n",
    "    ax1.set_facecolor('silver')\n",
    "    plt.subplots_adjust(left=.09, bottom=.09, right=1, top=.95, wspace=.20, hspace=0)\n",
    "    plt.show()"
   ]
  },
  {
   "cell_type": "code",
   "execution_count": null,
   "metadata": {},
   "outputs": [],
   "source": [
    "#Simple Moving average volume\n",
    "all_data['SMA5_Volume'] = all_data.groupby('symbol')['Volume'].transform(lambda x: x.rolling(window = 5).mean())\n",
    "all_data['SMA15_Volume'] = all_data.groupby('symbol')['Volume'].transform(lambda x: x.rolling(window = 15).mean())\n",
    "all_data['SMA_Volume_Ratio'] = all_data['SMA5_Volume']/all_data['SMA15_Volume']\n"
   ]
  },
  {
   "cell_type": "code",
   "execution_count": null,
   "metadata": {},
   "outputs": [],
   "source": [
    "all_data[all_data['symbol']=='KOTAKBANK.NS']"
   ]
  },
  {
   "cell_type": "code",
   "execution_count": null,
   "metadata": {},
   "outputs": [],
   "source": [
    "def Wilder(data, periods):\n",
    "    start = np.where(~np.isnan(data))[0][0] #Check if nans present in beginning\n",
    "    Wilder = np.array([np.nan]*len(data))\n",
    "    Wilder[start+periods-1] = data[start:(start+periods)].mean() #Simple Moving Average\n",
    "    for i in range(start+periods,len(data)):\n",
    "        Wilder[i] = (Wilder[i-1]*(periods-1) + data[i])/periods #Wilder Smoothing\n",
    "    return(Wilder)\n",
    "\n",
    "all_data['prev_close'] = all_data.groupby('symbol')['Close'].shift(1)\n",
    "all_data['TR'] = np.maximum((all_data['High'] - all_data['Low']), \n",
    "                     np.maximum(abs(all_data['High'] - all_data['prev_close']), \n",
    "                     abs(all_data['prev_close'] - all_data['Low'])))\n",
    "for i in all_data['symbol'].unique():\n",
    "    TR_data = all_data[all_data.symbol == i].copy()\n",
    "    all_data.loc[all_data.symbol==i,'ATR_5'] = Wilder(TR_data['TR'], 5)\n",
    "    all_data.loc[all_data.symbol==i,'ATR_15'] = Wilder(TR_data['TR'], 15)\n",
    "\n",
    "all_data['ATR_Ratio'] = all_data['ATR_5'] / all_data['ATR_15']\n",
    "\n",
    "\n",
    "all_data['prev_high'] = all_data.groupby('symbol')['High'].shift(1)\n",
    "all_data['prev_low'] = all_data.groupby('symbol')['Low'].shift(1)\n",
    "\n",
    "all_data['+DM'] = np.where(~np.isnan(all_data.prev_high),\n",
    "                           np.where((all_data['High'] > all_data['prev_high']) & \n",
    "         (((all_data['High'] - all_data['prev_high']) > (all_data['prev_low'] - all_data['Low']))), \n",
    "                                                                  all_data['High'] - all_data['prev_high'], \n",
    "                                                                  0),np.nan)\n",
    "\n",
    "all_data['-DM'] = np.where(~np.isnan(all_data.prev_low),\n",
    "                           np.where((all_data['prev_low'] > all_data['Low']) & \n",
    "         (((all_data['prev_low'] - all_data['Low']) > (all_data['High'] - all_data['prev_high']))), \n",
    "                                    all_data['prev_low'] - all_data['Low'], \n",
    "                                    0),np.nan)\n",
    "\n",
    "for i in all_data['symbol'].unique():\n",
    "    ADX_data = all_data[all_data.symbol == i].copy()\n",
    "    all_data.loc[all_data.symbol==i,'+DM_5'] = Wilder(ADX_data['+DM'], 5)\n",
    "    all_data.loc[all_data.symbol==i,'-DM_5'] = Wilder(ADX_data['-DM'], 5)\n",
    "    all_data.loc[all_data.symbol==i,'+DM_15'] = Wilder(ADX_data['+DM'], 15)\n",
    "    all_data.loc[all_data.symbol==i,'-DM_15'] = Wilder(ADX_data['-DM'], 15)\n",
    "\n",
    "all_data['+DI_5'] = (all_data['+DM_5']/all_data['ATR_5'])*100\n",
    "all_data['-DI_5'] = (all_data['-DM_5']/all_data['ATR_5'])*100\n",
    "all_data['+DI_15'] = (all_data['+DM_15']/all_data['ATR_15'])*100\n",
    "all_data['-DI_15'] = (all_data['-DM_15']/all_data['ATR_15'])*100\n",
    "\n",
    "all_data['DX_5'] = (np.round(abs(all_data['+DI_5'] - all_data['-DI_5'])/(all_data['+DI_5'] + all_data['-DI_5']) * 100))\n",
    "\n",
    "all_data['DX_15'] = (np.round(abs(all_data['+DI_15'] - all_data['-DI_15'])/(all_data['+DI_15'] + all_data['-DI_15']) * 100))\n",
    "\n",
    "for i in all_data['symbol'].unique():\n",
    "    ADX_data = all_data[all_data.symbol == i].copy()\n",
    "    all_data.loc[all_data.symbol==i,'ADX_5'] = Wilder(ADX_data['DX_5'], 5)\n",
    "    all_data.loc[all_data.symbol==i,'ADX_15'] = Wilder(ADX_data['DX_15'], 15)\n",
    "all_data"
   ]
  },
  {
   "cell_type": "code",
   "execution_count": null,
   "metadata": {},
   "outputs": [],
   "source": [
    "all_data['Lowest_5D'] = all_data.groupby('symbol')['Low'].transform(lambda x: x.rolling(window = 5).min())\n",
    "all_data['High_5D'] = all_data.groupby('symbol')['High'].transform(lambda x: x.rolling(window = 5).max())\n",
    "all_data['Lowest_15D'] = all_data.groupby('symbol')['Low'].transform(lambda x: x.rolling(window = 15).min())\n",
    "all_data['High_15D'] = all_data.groupby('symbol')['High'].transform(lambda x: x.rolling(window = 15).max())\n",
    "\n",
    "all_data['Stochastic_5'] = ((all_data['Close'] - all_data['Lowest_5D'])/(all_data['High_5D'] - all_data['Lowest_5D']))*100\n",
    "all_data['Stochastic_15'] = ((all_data['Close'] - all_data['Lowest_15D'])/(all_data['High_15D'] - all_data['Lowest_15D']))*100\n",
    "\n",
    "all_data['Stochastic_%D_5'] = all_data['Stochastic_5'].rolling(window = 5).mean()\n",
    "all_data['Stochastic_%D_15'] = all_data['Stochastic_5'].rolling(window = 15).mean()\n",
    "\n",
    "all_data['Stochastic_Ratio'] = all_data['Stochastic_%D_5']/all_data['Stochastic_%D_15']\n",
    "all_data"
   ]
  },
  {
   "cell_type": "code",
   "execution_count": null,
   "metadata": {},
   "outputs": [],
   "source": [
    "all_data['Diff'] = all_data.groupby('symbol')['Close'].transform(lambda x: x.diff())\n",
    "all_data['Up'] = all_data['Diff']\n",
    "all_data.loc[(all_data['Up']<0), 'Up'] = 0\n",
    "\n",
    "all_data['Down'] = all_data['Diff']\n",
    "all_data.loc[(all_data['Down']>0), 'Down'] = 0 \n",
    "all_data['Down'] = abs(all_data['Down'])\n",
    "\n",
    "all_data['avg_5up'] = all_data.groupby('symbol')['Up'].transform(lambda x: x.rolling(window=5).mean())\n",
    "all_data['avg_5down'] = all_data.groupby('symbol')['Down'].transform(lambda x: x.rolling(window=5).mean())\n",
    "\n",
    "all_data['avg_15up'] = all_data.groupby('symbol')['Up'].transform(lambda x: x.rolling(window=15).mean())\n",
    "all_data['avg_15down'] = all_data.groupby('symbol')['Down'].transform(lambda x: x.rolling(window=15).mean())\n",
    "\n",
    "all_data['RS_5'] = all_data['avg_5up'] / all_data['avg_5down']\n",
    "all_data['RS_15'] = all_data['avg_15up'] / all_data['avg_15down']\n",
    "\n",
    "all_data['RSI_5'] = 100 - (100/(1+all_data['RS_5']))\n",
    "all_data['RSI_15'] = 100 - (100/(1+all_data['RS_15']))\n",
    "\n",
    "all_data['RSI_ratio'] = all_data['RSI_5']/all_data['RSI_15']\n",
    "all_data"
   ]
  },
  {
   "cell_type": "code",
   "execution_count": null,
   "metadata": {},
   "outputs": [],
   "source": [
    "all_data['5Ewm'] = all_data.groupby('symbol')['Close'].transform(lambda x: x.ewm(span=5, adjust=False).mean())\n",
    "all_data['15Ewm'] = all_data.groupby('symbol')['Close'].transform(lambda x: x.ewm(span=15, adjust=False).mean())\n",
    "all_data['MACD'] = all_data['15Ewm'] - all_data['5Ewm']"
   ]
  },
  {
   "cell_type": "code",
   "execution_count": null,
   "metadata": {},
   "outputs": [],
   "source": [
    "all_data['15MA'] = all_data.groupby('symbol')['Close'].transform(lambda x: x.rolling(window=15).mean())\n",
    "all_data['SD'] = all_data.groupby('symbol')['Close'].transform(lambda x: x.rolling(window=15).std())\n",
    "all_data['upperband'] = all_data['15MA'] + 2*all_data['SD']\n",
    "all_data['lowerband'] = all_data['15MA'] - 2*all_data['SD']"
   ]
  },
  {
   "cell_type": "code",
   "execution_count": null,
   "metadata": {},
   "outputs": [],
   "source": [
    "# all_data[all_data['symbol']=='ITC.NS']\n",
    "feb_data = all_data.loc['2022-02-21']\n",
    "feb_data[feb_data['SMA_5'] > feb_data['SMA_15']]\n",
    "feb_data.to_csv('feb.csv')"
   ]
  },
  {
   "cell_type": "code",
   "execution_count": null,
   "metadata": {},
   "outputs": [],
   "source": [
    "print(feb_data[feb_data['SMA_5'] < feb_data['SMA_15']])"
   ]
  },
  {
   "cell_type": "code",
   "execution_count": null,
   "metadata": {},
   "outputs": [],
   "source": [
    "\n",
    "    start = dt.datetime.strptime('2021-8-01', '%Y-%m-%d')\n",
    "    end = dt.date.today()\n",
    "    \n",
    "    sns.set()\n",
    "    from scipy.signal import argrelextrema\n",
    "    tmp = all_data[all_data.symbol =='SBIN.NS'].loc[start:end,['Close']]\n",
    "    tmp_nparray = tmp.to_numpy()\n",
    "# tmp_nparray[0]\n",
    "    local_max = argrelextrema(tmp_nparray, np.greater)\n",
    "\n",
    "    fig = plt.figure(facecolor = 'white', figsize = (20,10))\n",
    "\n",
    "    ax0 = plt.subplot2grid((6,4), (1,0), rowspan=4, colspan=4)\n",
    "    ax0.plot(all_data[all_data.symbol=='SBIN.NS'].loc[start:end,['SMA_5','SMA_15']])\n",
    "    ax0.set_facecolor('ghostwhite')\n",
    "  \n",
    "    ax0.legend(['Close','SMA_5','SMA_15'],ncol=3, loc = 'upper left', fontsize = 15)\n",
    "    ax0.plot(all_data[all_data.symbol=='SBIN.NS'].loc[start:end,['Close']],)\n",
    "#     ax0.plot(tmp_nparray)\n",
    "    plt.title(\"SBIN.NS\"+\" Stock Price, Slow and Fast Moving Average\", fontsize = 20)\n",
    "\n",
    "#     ax1 = plt.subplot2grid((6,4), (5,0), rowspan=1, colspan=4, sharex = ax0)\n",
    "#     ax1.plot(all_data[all_data.symbol=='SBIN.NS'].loc[start:end,['SMA_ratio']], color = 'blue')\n",
    "#     ax1.legend(['SMA_Ratio'],ncol=3, loc = 'upper left', fontsize = 12)\n",
    "#     ax1.set_facecolor('silver')\n",
    "    plt.subplots_adjust(left=.09, bottom=.09, right=1, top=.95, wspace=.20, hspace=0)\n",
    "    plt.show()"
   ]
  },
  {
   "cell_type": "code",
   "execution_count": null,
   "metadata": {},
   "outputs": [],
   "source": [
    "\n",
    "# from scipy.signal import argrelextrema\n",
    "# tmp = all_data[all_data.symbol =='SBIN.NS'].loc[start:end,['Close']]\n",
    "# tmp_nparray = tmp.to_numpy()\n",
    "# tmp_nparray\n",
    "# argrelextrema(df.data.values, np.less_equal,\n",
    "#                     order=n)[0]]['data']\n",
    "\n",
    "single_stock_df = all_data[all_data.symbol =='TECHM.NS']\n",
    "\n",
    "single_stock_df['max_local'] = single_stock_df.iloc[argrelextrema(single_stock_df['15Ewm'].values,np.greater)[0]]['15Ewm']\n",
    "# all_data['min_local']=all_data.iloc[argrelextrema(all_data.Close.values,np.less)[0]]['Close']\n",
    "single_stock_df['min_local'] = single_stock_df.iloc[argrelextrema(single_stock_df['15Ewm'].values,np.less)[0]]['15Ewm']\n",
    "single_stock_df.to_csv('singlestock.csv')"
   ]
  },
  {
   "cell_type": "code",
   "execution_count": null,
   "metadata": {},
   "outputs": [],
   "source": [
    "\n",
    "    start = dt.datetime.strptime('2021-1-01', '%Y-%m-%d')\n",
    "    end = dt.date.today()\n",
    "    \n",
    "    sns.set()\n",
    "    \n",
    "    fig = plt.figure(facecolor = 'white', figsize = (20,10))\n",
    "\n",
    "    ax0 = plt.subplot2grid((6,4), (1,0), rowspan=4, colspan=4)\n",
    "#     ax0.plot(single_stock_df.loc[start:end,['SMA_5','SMA_15']])\n",
    "    ax0.set_facecolor('ghostwhite')\n",
    "  \n",
    "    ax0.legend(['Close','SMA_5','SMA_15'],ncol=3, loc = 'upper left', fontsize = 15)\n",
    "    ax0.plot(single_stock_df.loc[start:end,['Close']],)\n",
    "#     ax0.plot(tmp_nparray)\n",
    "    plt.title(\"TECH.NS\"+\" Stock Price, Slow and Fast Moving Average\", fontsize = 20)\n",
    "    plt.scatter(single_stock_df.index,single_stock_df['min_local'],c='g')\n",
    "    plt.scatter(single_stock_df.index,single_stock_df['max_local'],c='r')\n",
    "#     ax1 = plt.subplot2grid((6,4), (5,0), rowspan=1, colspan=4, sharex = ax0)\n",
    "#     ax1.plot(all_data[all_data.symbol=='SBIN.NS'].loc[start:end,['SMA_ratio']], color = 'blue')\n",
    "#     ax1.legend(['SMA_Ratio'],ncol=3, loc = 'upper left', fontsize = 12)\n",
    "#     ax1.set_facecolor('silver')\n",
    "    plt.subplots_adjust(left=.09, bottom=.09, right=1, top=.95, wspace=.20, hspace=0)\n",
    "    plt.show()\n"
   ]
  },
  {
   "cell_type": "code",
   "execution_count": null,
   "metadata": {},
   "outputs": [],
   "source": [
    "# all_data.columns\n",
    "cols = ['symbol','High', 'Low', 'Open', 'Close', 'Volume', 'Adj Close', \n",
    "       'return', 'SMA_5', 'SMA_15', 'SMA_ratio', 'SMA5_Volume', 'SMA15_Volume',\n",
    "       'SMA_Volume_Ratio', 'prev_close', 'TR', 'ATR_5', 'ATR_15', 'ATR_Ratio',\n",
    "       'prev_high', 'prev_low', '+DM', '-DM', '+DM_5', '-DM_5', '+DM_15',\n",
    "       '-DM_15', '+DI_5', '-DI_5', '+DI_15', '-DI_15', 'DX_5', 'DX_15',\n",
    "       'ADX_5', 'ADX_15', 'Lowest_5D', 'High_5D', 'Lowest_15D', 'High_15D',\n",
    "       'Stochastic_5', 'Stochastic_15', 'Stochastic_%D_5', 'Stochastic_%D_15',\n",
    "       'Stochastic_Ratio', 'Diff', 'Up', 'Down', 'avg_5up', 'avg_5down',\n",
    "       'avg_15up', 'avg_15down', 'RS_5', 'RS_15', 'RSI_5', 'RSI_15',\n",
    "       'RSI_ratio', '5Ewm', '15Ewm', 'MACD', '15MA', 'SD', 'upperband',\n",
    "       'lowerband']\n",
    "all_data = all_data[cols]\n"
   ]
  },
  {
   "cell_type": "code",
   "execution_count": null,
   "metadata": {},
   "outputs": [],
   "source": [
    "# Code to introduce Bollinger band\n",
    "import ta as ta\n",
    "\n",
    "indicator_bb = ta.volatility.BollingerBands(close=all_data[\"Close\"], window=20, window_dev=2)\n",
    "# Add Bollinger Bands features\n",
    "all_data['bb_bbm'] = indicator_bb.bollinger_mavg()\n",
    "all_data['bb_bbh'] = indicator_bb.bollinger_hband()\n",
    "all_data['bb_bbl'] = indicator_bb.bollinger_lband()\n",
    "\n",
    "# Add Bollinger Band high indicator\n",
    "all_data['bb_bbhi'] = indicator_bb.bollinger_hband_indicator()\n",
    "\n",
    "# Add Bollinger Band low indicator\n",
    "all_data['bb_bbli'] = indicator_bb.bollinger_lband_indicator()\n"
   ]
  },
  {
   "cell_type": "code",
   "execution_count": null,
   "metadata": {},
   "outputs": [],
   "source": [
    "all_data['Kama_5'] = ta.momentum.KAMAIndicator(close=all_data[\"Close\"],window=5).kama()\n",
    "all_data['Kama_20'] = ta.momentum.KAMAIndicator(close=all_data[\"Close\"],window=15).kama()\n",
    "all_data"
   ]
  },
  {
   "cell_type": "code",
   "execution_count": null,
   "metadata": {},
   "outputs": [],
   "source": [
    "    start = dt.datetime.strptime('2022-01-01', '%Y-%m-%d')\n",
    "    end = dt.datetime.strptime('2022-06-6', '%Y-%m-%d')\n",
    "    sns.set()\n",
    "\n",
    "    fig = plt.figure(facecolor = 'white', figsize = (20,10))\n",
    "\n",
    "    ax0 = plt.subplot2grid((6,4), (1,0), rowspan=4, colspan=4)\n",
    "    ax0.plot(all_data[all_data.symbol=='HINDUNILVR.NS'].loc[start:end,['Close','Kama_5','Kama_20']])\n",
    "    ax0.set_facecolor('ghostwhite')\n",
    "    ax0.legend(['Close','Kama_5','Kama_20'],ncol=3, loc = 'upper left', fontsize = 15)\n",
    "    plt.title(i+\" Stock Price, Slow and Fast Moving Average\", fontsize = 20)\n",
    "\n",
    "    \n",
    "    plt.subplots_adjust(left=.09, bottom=.09, right=1, top=.95, wspace=.20, hspace=0)\n",
    "    plt.show()"
   ]
  },
  {
   "cell_type": "code",
   "execution_count": null,
   "metadata": {},
   "outputs": [],
   "source": [
    "for i in tickers:\n",
    "    start = dt.datetime.strptime('2022-01-01', '%Y-%m-%d')\n",
    "    end = dt.datetime.strptime('2022-05-06', '%Y-%m-%d')\n",
    "    sns.set()\n",
    "\n",
    "    fig = plt.figure(facecolor = 'white', figsize = (20,10))\n",
    "\n",
    "    ax0 = plt.subplot2grid((6,4), (1,0), rowspan=4, colspan=4)\n",
    "    ax0.plot(all_data[all_data.symbol==i].loc[start:end,['Close','Kama_5','Kama_20']])\n",
    "    ax0.set_facecolor('ghostwhite')\n",
    "    ax0.legend(['Close','Kama_5','Kama_20'],ncol=3, loc = 'upper left', fontsize = 15)\n",
    "    plt.title(i+\" Stock Price, Slow and Fast Moving Average\", fontsize = 20)\n",
    "\n",
    "    \n",
    "    plt.subplots_adjust(left=.09, bottom=.09, right=1, top=.95, wspace=.20, hspace=0)\n",
    "    plt.show()\n",
    "   \n",
    "    \n",
    "#     fig = plt.figure(facecolor = 'white', figsize = (20,10))\n",
    "\n",
    "#     ax0 = plt.subplot2grid((6,4), (1,0), rowspan=4, colspan=4)\n",
    "#     ax0.plot(all_data[all_data.symbol==i].loc[start:end,['Close','SMA_5','SMA_15']])\n",
    "#     ax0.set_facecolor('ghostwhite')\n",
    "#     ax0.legend(['Close','SMA_5','SMA_15'],ncol=3, loc = 'upper left', fontsize = 15)\n",
    "#     plt.title(i+\" Stock Price, Slow and Fast Moving Average\", fontsize = 20)\n",
    "\n",
    "#     ax1 = plt.subplot2grid((6,4), (5,0), rowspan=1, colspan=4, sharex = ax0)\n",
    "#     ax1.plot(all_data[all_data.symbol==i].loc[start:end,['SMA_ratio']], color = 'blue')\n",
    "#     ax1.legend(['SMA_Ratio'],ncol=3, loc = 'upper left', fontsize = 12)\n",
    "#     ax1.set_facecolor('silver')\n",
    "#     plt.subplots_adjust(left=.09, bottom=.09, right=1, top=.95, wspace=.20, hspace=0)\n",
    "#     plt.show()"
   ]
  },
  {
   "cell_type": "code",
   "execution_count": null,
   "metadata": {},
   "outputs": [],
   "source": [
    "all_data.to_excel(all_data.xlsx)"
   ]
  }
 ],
 "metadata": {
  "kernelspec": {
   "display_name": "Python 3",
   "language": "python",
   "name": "python3"
  },
  "language_info": {
   "codemirror_mode": {
    "name": "ipython",
    "version": 3
   },
   "file_extension": ".py",
   "mimetype": "text/x-python",
   "name": "python",
   "nbconvert_exporter": "python",
   "pygments_lexer": "ipython3",
   "version": "3.8.5"
  }
 },
 "nbformat": 4,
 "nbformat_minor": 4
}
