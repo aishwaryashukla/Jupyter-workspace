{
 "cells": [
  {
   "cell_type": "code",
   "execution_count": 3,
   "metadata": {},
   "outputs": [
    {
     "name": "stdout",
     "output_type": "stream",
     "text": [
      "Collecting yagmail\n",
      "  Downloading yagmail-0.15.277-py2.py3-none-any.whl (17 kB)\n",
      "Collecting premailer\n",
      "  Downloading premailer-3.10.0-py2.py3-none-any.whl (19 kB)\n",
      "Collecting cssutils\n",
      "  Downloading cssutils-2.4.1-py3-none-any.whl (404 kB)\n",
      "\u001b[K     |████████████████████████████████| 404 kB 8.3 MB/s eta 0:00:01\n",
      "\u001b[?25hCollecting cachetools\n",
      "  Downloading cachetools-5.2.0-py3-none-any.whl (9.3 kB)\n",
      "Requirement already satisfied: requests in /Users/aishwaryashukla/opt/anaconda3/lib/python3.8/site-packages (from premailer->yagmail) (2.24.0)\n",
      "Collecting cssselect\n",
      "  Using cached cssselect-1.1.0-py2.py3-none-any.whl (16 kB)\n",
      "Requirement already satisfied: lxml in /Users/aishwaryashukla/opt/anaconda3/lib/python3.8/site-packages (from premailer->yagmail) (4.6.1)\n",
      "Requirement already satisfied: certifi>=2017.4.17 in /Users/aishwaryashukla/opt/anaconda3/lib/python3.8/site-packages (from requests->premailer->yagmail) (2020.6.20)\n",
      "Requirement already satisfied: idna<3,>=2.5 in /Users/aishwaryashukla/opt/anaconda3/lib/python3.8/site-packages (from requests->premailer->yagmail) (2.10)\n",
      "Requirement already satisfied: urllib3!=1.25.0,!=1.25.1,<1.26,>=1.21.1 in /Users/aishwaryashukla/opt/anaconda3/lib/python3.8/site-packages (from requests->premailer->yagmail) (1.25.11)\n",
      "Requirement already satisfied: chardet<4,>=3.0.2 in /Users/aishwaryashukla/opt/anaconda3/lib/python3.8/site-packages (from requests->premailer->yagmail) (3.0.4)\n",
      "Installing collected packages: cssutils, cachetools, cssselect, premailer, yagmail\n",
      "Successfully installed cachetools-5.2.0 cssselect-1.1.0 cssutils-2.4.1 premailer-3.10.0 yagmail-0.15.277\n"
     ]
    }
   ],
   "source": [
    "!pip install yagmail\n"
   ]
  },
  {
   "cell_type": "code",
   "execution_count": 13,
   "metadata": {},
   "outputs": [],
   "source": [
    "def greet(name, msg=\" Good Morning\"):\n",
    "    print(\"{} {}\".format(name, msg))"
   ]
  },
  {
   "cell_type": "code",
   "execution_count": 26,
   "metadata": {},
   "outputs": [
    {
     "ename": "NameError",
     "evalue": "name 'Square' is not defined",
     "output_type": "error",
     "traceback": [
      "\u001b[0;31m---------------------------------------------------------------------------\u001b[0m",
      "\u001b[0;31mNameError\u001b[0m                                 Traceback (most recent call last)",
      "\u001b[0;32m<ipython-input-26-1f2be39fb117>\u001b[0m in \u001b[0;36m<module>\u001b[0;34m\u001b[0m\n\u001b[1;32m     14\u001b[0m \u001b[0;32mfrom\u001b[0m \u001b[0mSendEmail\u001b[0m \u001b[0;32mimport\u001b[0m \u001b[0;34m*\u001b[0m\u001b[0;34m\u001b[0m\u001b[0;34m\u001b[0m\u001b[0m\n\u001b[1;32m     15\u001b[0m \u001b[0;34m\u001b[0m\u001b[0m\n\u001b[0;32m---> 16\u001b[0;31m \u001b[0mobject1\u001b[0m \u001b[0;34m=\u001b[0m \u001b[0mSquare\u001b[0m\u001b[0;34m(\u001b[0m\u001b[0;36m5\u001b[0m\u001b[0;34m)\u001b[0m\u001b[0;34m\u001b[0m\u001b[0;34m\u001b[0m\u001b[0m\n\u001b[0m\u001b[1;32m     17\u001b[0m \u001b[0mprint\u001b[0m\u001b[0;34m(\u001b[0m\u001b[0;34mf\"From class Square: {object1.getVal()}\"\u001b[0m\u001b[0;34m)\u001b[0m\u001b[0;34m\u001b[0m\u001b[0;34m\u001b[0m\u001b[0m\n\u001b[1;32m     18\u001b[0m \u001b[0;34m\u001b[0m\u001b[0m\n",
      "\u001b[0;31mNameError\u001b[0m: name 'Square' is not defined"
     ]
    }
   ],
   "source": [
    "# import yagmail\n",
    "\n",
    "# user = yagmail.SMTP(user='mail.aishwaryashukla@gmail.com', \\\n",
    "#                        password='kcqqrerumbpuzlma')\n",
    "# user.send(to='aishwarya.shukla@gmail.com', \\\n",
    "#              subject='My First Email in Python', \\\n",
    "#              contents='Speak up J3, my 1º email')\n",
    "\n",
    "# from SendEmail import sendmail\n",
    "# greet(\"aish\")\n",
    "# sendmail('test subject','body')\n",
    "\n",
    "# from SendEmail import sendmail\n",
    "from SendEmail import *\n",
    "\n",
    "object1 = Square(5)\n",
    "print(f\"From class Square: {object1.getVal()}\")\n",
    "\n",
    "# emailObj = AishMail('Test subject','test  body','aishwarya.shukla@gmail.com')\n",
    "# emailObj.sendmail()"
   ]
  },
  {
   "cell_type": "code",
   "execution_count": null,
   "metadata": {},
   "outputs": [],
   "source": []
  }
 ],
 "metadata": {
  "kernelspec": {
   "display_name": "Python 3",
   "language": "python",
   "name": "python3"
  },
  "language_info": {
   "codemirror_mode": {
    "name": "ipython",
    "version": 3
   },
   "file_extension": ".py",
   "mimetype": "text/x-python",
   "name": "python",
   "nbconvert_exporter": "python",
   "pygments_lexer": "ipython3",
   "version": "3.8.5"
  }
 },
 "nbformat": 4,
 "nbformat_minor": 4
}
