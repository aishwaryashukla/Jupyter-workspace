{
 "cells": [
  {
   "cell_type": "code",
   "execution_count": 9,
   "metadata": {},
   "outputs": [
    {
     "name": "stdout",
     "output_type": "stream",
     "text": [
      "TE-STBE-384G\n"
     ]
    }
   ],
   "source": [
    "class sol:\n",
    "    \n",
    "    def dash(self, s: str, k: int)-> str:\n",
    "        \n",
    "        res = []\n",
    "        # traverse through the reversed string\n",
    "        for i in reversed(range(len(s))):\n",
    "            # skip dashes present in original/given string\n",
    "            if s[i] == '-':\n",
    "                continue\n",
    "            # inserting dash as soon as k characters have been appended to res\n",
    "            if len(res) % (k + 1) == k:\n",
    "                res += '-'\n",
    "            # convert each character to uppercase\n",
    "            res +=  s[i].upper()\n",
    "        # return final string after reversing the contents of the res variable\n",
    "        return \"\".join(reversed(res))\n",
    "        \n",
    "\n",
    "obj = sol()\n",
    "print(obj.dash(\"test-be-384g\", 4))"
   ]
  }
 ],
 "metadata": {
  "kernelspec": {
   "display_name": "Python 3",
   "language": "python",
   "name": "python3"
  },
  "language_info": {
   "codemirror_mode": {
    "name": "ipython",
    "version": 3
   },
   "file_extension": ".py",
   "mimetype": "text/x-python",
   "name": "python",
   "nbconvert_exporter": "python",
   "pygments_lexer": "ipython3",
   "version": "3.8.5"
  }
 },
 "nbformat": 4,
 "nbformat_minor": 4
}
