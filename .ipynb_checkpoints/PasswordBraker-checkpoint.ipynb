{
 "cells": [
  {
   "cell_type": "code",
   "execution_count": 1,
   "metadata": {},
   "outputs": [
    {
     "name": "stdout",
     "output_type": "stream",
     "text": [
      "Total pages: 3\n",
      "1810\n"
     ]
    }
   ],
   "source": [
    "# !pip install pikepdf\n",
    "from datetime import timedelta, date\n",
    "import pikepdf\n",
    "import datetime\n",
    "# dt  = datetime.date(2015, 1, 20)\n",
    "# print(dt.day)\n",
    "\n",
    "\n",
    "def daterange(start_date, end_date):\n",
    "    for n in range(int((end_date - start_date).days)):\n",
    "        yield start_date + timedelta(n)\n",
    "        \n",
    "        \n",
    "start_date = date(2021, 1, 1)\n",
    "end_date = date(2022, 1, 1)\n",
    "def open_pdf(f, msg):\n",
    "    with pikepdf.open(f,password=msg) as pdf:\n",
    "        num_pages = len(pdf.pages)\n",
    "        print(\"Total pages:\", num_pages)\n",
    "        \n",
    "for single_date in daterange(start_date, end_date):\n",
    "    msg = single_date.strftime(\"%d%m\")\n",
    "#     print(msg)\n",
    "    try:\n",
    "        open_pdf(\"a.PDF\",\"AISH\"+msg)\n",
    "        print(msg)\n",
    "    except:\n",
    "        print(end='')\n",
    "    \n"
   ]
  },
  {
   "cell_type": "code",
   "execution_count": null,
   "metadata": {},
   "outputs": [],
   "source": [
    "print(\"hello\")"
   ]
  }
 ],
 "metadata": {
  "kernelspec": {
   "display_name": "Python 3",
   "language": "python",
   "name": "python3"
  },
  "language_info": {
   "codemirror_mode": {
    "name": "ipython",
    "version": 3
   },
   "file_extension": ".py",
   "mimetype": "text/x-python",
   "name": "python",
   "nbconvert_exporter": "python",
   "pygments_lexer": "ipython3",
   "version": "3.8.5"
  }
 },
 "nbformat": 4,
 "nbformat_minor": 4
}
