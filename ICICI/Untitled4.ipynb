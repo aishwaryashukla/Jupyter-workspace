{
 "cells": [
  {
   "cell_type": "code",
   "execution_count": 1,
   "metadata": {},
   "outputs": [
    {
     "name": "stdout",
     "output_type": "stream",
     "text": [
      "{\"Status\":500,\"Error\":\"Unauthorized User\"}\n"
     ]
    }
   ],
   "source": [
    "import http.client\n",
    "import json\n",
    "\n",
    "conn = http.client.HTTPSConnection(\"api.icicidirect.com\")\n",
    "payload = json.dumps({\n",
    "    \"exchange_code\": \"NSE\",\n",
    "    \"from_date\": \"\",\n",
    "    \"to_date\": \"\",\n",
    "    \"stock_code\": \"JKPAP\",\n",
    "    \"portfolio_type\": \"\"\n",
    "})\n",
    "headers = {\n",
    "    'Content-Type': 'application/json',\n",
    "    'X-Checksum': 'token ',\n",
    "    'X-Timestamp': '',\n",
    "    'X-AppKey': '',\n",
    "    'X-SessionToken': ''\n",
    "}\n",
    "conn.request(\"GET\", \"/breezeapi/api/v1/portfolioholdings\", payload, headers)\n",
    "res = conn.getresponse()\n",
    "data = res.read()\n",
    "print(data.decode(\"utf-8\"))"
   ]
  }
 ],
 "metadata": {
  "kernelspec": {
   "display_name": "Python 3",
   "language": "python",
   "name": "python3"
  },
  "language_info": {
   "codemirror_mode": {
    "name": "ipython",
    "version": 3
   },
   "file_extension": ".py",
   "mimetype": "text/x-python",
   "name": "python",
   "nbconvert_exporter": "python",
   "pygments_lexer": "ipython3",
   "version": "3.8.5"
  }
 },
 "nbformat": 4,
 "nbformat_minor": 4
}
