{
 "cells": [
  {
   "cell_type": "code",
   "execution_count": 1,
   "metadata": {},
   "outputs": [
    {
     "name": "stdout",
     "output_type": "stream",
     "text": [
      "Collecting nsetools\n",
      "  Downloading nsetools-1.0.11-py3-none-any.whl (9.6 kB)\n",
      "Requirement already satisfied: six in /Users/aishwaryashukla/opt/anaconda3/lib/python3.8/site-packages (from nsetools) (1.15.0)\n",
      "Collecting dateutils\n",
      "  Downloading dateutils-0.6.12-py2.py3-none-any.whl (5.7 kB)\n",
      "Requirement already satisfied: pytz in /Users/aishwaryashukla/opt/anaconda3/lib/python3.8/site-packages (from dateutils->nsetools) (2020.1)\n",
      "Requirement already satisfied: python-dateutil in /Users/aishwaryashukla/opt/anaconda3/lib/python3.8/site-packages (from dateutils->nsetools) (2.8.2)\n",
      "Installing collected packages: dateutils, nsetools\n",
      "Successfully installed dateutils-0.6.12 nsetools-1.0.11\n"
     ]
    }
   ],
   "source": [
    "!pip install nsetools"
   ]
  },
  {
   "cell_type": "code",
   "execution_count": null,
   "metadata": {},
   "outputs": [],
   "source": [
    "from nsetools import Nse\n",
    "# Initialize the NSE object\n",
    "nse = Nse()\n",
    "\n",
    "# Replace 'RELIANCE' with the stock symbol you want to fetch the price for\n",
    "symbol = 'RELIANCE'\n",
    "\n",
    "# Get quote for the specified stock\n",
    "quote = nse.get_quote(symbol)\n",
    "\n",
    "if quote:\n",
    "    stock_price = quote['lastPrice']\n",
    "    print(f\"Current price of {symbol}: {stock_price}\")\n",
    "else:\n",
    "    print(f\"Stock symbol '{symbol}' not found or data not available.\")"
   ]
  }
 ],
 "metadata": {
  "kernelspec": {
   "display_name": "Python 3",
   "language": "python",
   "name": "python3"
  },
  "language_info": {
   "codemirror_mode": {
    "name": "ipython",
    "version": 3
   },
   "file_extension": ".py",
   "mimetype": "text/x-python",
   "name": "python",
   "nbconvert_exporter": "python",
   "pygments_lexer": "ipython3",
   "version": "3.8.5"
  }
 },
 "nbformat": 4,
 "nbformat_minor": 4
}
