{
 "cells": [
  {
   "cell_type": "code",
   "execution_count": null,
   "metadata": {},
   "outputs": [],
   "source": [
    "import yfinance as yf\n",
    "import pandas as pd\n",
    "import seaborn as sns\n",
    "import matplotlib.pyplot as plt\n",
    "\n",
    "ticker = \"^NSEI\"\n",
    "start_date = \"2018-12-31\"\n",
    "end_date = \"2024-03-12\"\n",
    "\n",
    "# Download the historical data for Nifty Index\n",
    "data = yf.download(ticker, start=start_date, end=end_date)\n",
    "\n",
    "print(f\" type of data is {type(data)}\")\n",
    "# Resample the data on a monthly basis\n",
    "data_monthly = data.resample('M').last()\n",
    "\n",
    "# Calculate the monthly returns\n",
    "monthly_returns = data_monthly['Adj Close'].pct_change()\n",
    "print(f\" type of data_monthly is {type(monthly_returns)}\")\n",
    "# Convert monthly returns to a pandas DataFrame\n",
    "monthly_returns_df = pd.DataFrame(monthly_returns)\n",
    "\n",
    "# Pivot the DataFrame to create a matrix of monthly returns by month and year\n",
    "monthly_returns_matrix = monthly_returns_df.pivot_table(values='Adj Close', index=monthly_returns_df.index.month, columns=monthly_returns_df.index.year)\n",
    "\n",
    "# Set the index names to the month names\n",
    "monthly_returns_matrix.index = ['Jan', 'Feb', 'Mar', 'Apr', 'May', 'Jun', 'Jul', 'Aug', 'Sep', 'Oct', 'Nov', 'Dec']\n",
    "\n",
    "# Calculate the sum of monthly returns for each year\n",
    "yearly_returns = monthly_returns_df.groupby(monthly_returns_df.index.year)['Adj Close'].sum()\n",
    "\n",
    "# Add the yearly returns to the matrix as a new row\n",
    "monthly_returns_matrix.loc['Yearly'] = yearly_returns\n",
    "\n",
    "# Set the font scale\n",
    "sns.set(font_scale=1.2)\n",
    "\n",
    "# Plot the heatmap using seaborn\n",
    "plt.figure(figsize=(14, 12))\n",
    "sns.heatmap(monthly_returns_matrix, annot=True, cmap='RdYlGn', center=0, fmt='.2%', cbar=False)\n",
    "plt.title('Nifty Monthly and Yearly Returns by Month and Year', fontsize=20)\n",
    "plt.xlabel('Month', fontsize=14)\n",
    "plt.ylabel('Year', fontsize=14)\n",
    "plt.show()"
   ]
  }
 ],
 "metadata": {
  "kernelspec": {
   "display_name": "Python 3",
   "language": "python",
   "name": "python3"
  },
  "language_info": {
   "codemirror_mode": {
    "name": "ipython",
    "version": 3
   },
   "file_extension": ".py",
   "mimetype": "text/x-python",
   "name": "python",
   "nbconvert_exporter": "python",
   "pygments_lexer": "ipython3",
   "version": "3.8.5"
  }
 },
 "nbformat": 4,
 "nbformat_minor": 4
}
